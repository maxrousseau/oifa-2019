{
 "cells": [
  {
   "cell_type": "markdown",
   "metadata": {},
   "source": [
    "# Statistical Analysis of the OI Facial Morphology Study\n",
    "\n",
    "In this notebook we will be running statistical tests on the data gathered from the facial annotation of the anteroposterior photographs of the BBDC 7701 OI patient to determine morphological patterns. We will be comparing subjects affected by types I, III, and IV as well as an unaffected group.\n",
    "\n",
    "Outline:\n",
    "1. Data preparation:\n",
    "    - load libraries\n",
    "    - load database\n",
    "2. Assessment of the sample population:\n",
    "    - Sex (Chi-squared)\n",
    "    - Ages (ANOVA)\n",
    "3. Statistical shape analysis:\n",
    "    - ProcGPA (mean shape)\n",
    "    - MED\n",
    "    - Ratio 1, 2, 3\n",
    "    - LFH\n",
    "4. Statistical Testing:\n",
    "    - ProcGPA (Goodall's F-test)\n",
    "    - MED (ANOVA)\n",
    "    - Ratio 1, 2, 3 (ANOVA)\n",
    "    - LFH (ANOVA)\n",
    "4. Regression analysis:\n",
    "5. PCA classification of images (or shallow neural net):"
   ]
  },
  {
   "cell_type": "markdown",
   "metadata": {},
   "source": [
    "## Data Preparation\n",
    "\n",
    "Here we will load the R libraries necessary for the statistical analysis and read the data from csv."
   ]
  },
  {
   "cell_type": "code",
   "execution_count": 2,
   "metadata": {},
   "outputs": [
    {
     "name": "stderr",
     "output_type": "stream",
     "text": [
      "\n",
      "Attaching package: ‘dplyr’\n",
      "\n",
      "The following objects are masked from ‘package:stats’:\n",
      "\n",
      "    filter, lag\n",
      "\n",
      "The following objects are masked from ‘package:base’:\n",
      "\n",
      "    intersect, setdiff, setequal, union\n",
      "\n"
     ]
    }
   ],
   "source": [
    "library('shapes','foreach')\n",
    "library('dplyr','ggplot2')\n",
    "library('reshape2','plyr')\n",
    "library('dplyr')"
   ]
  },
  {
   "cell_type": "code",
   "execution_count": 3,
   "metadata": {},
   "outputs": [],
   "source": [
    "raw_data <- read.csv(\"./facial_analysis_data.csv\")\n",
    "raw_data$Group <- as.factor(raw_data$Group)\n",
    "raw_data$Gender <- as.factor(raw_data$Gender)"
   ]
  },
  {
   "cell_type": "code",
   "execution_count": 4,
   "metadata": {},
   "outputs": [
    {
     "data": {
      "text/html": [
       "<table>\n",
       "<thead><tr><th></th><th scope=col>Group</th><th scope=col>File.No.</th><th scope=col>Age</th><th scope=col>Gender</th><th scope=col>Genetic</th></tr></thead>\n",
       "<tbody>\n",
       "\t<tr><th scope=row>95</th><td>3    </td><td>239  </td><td> 3.90</td><td>F    </td><td>NA   </td></tr>\n",
       "\t<tr><th scope=row>79</th><td>1    </td><td>249  </td><td>10.50</td><td>F    </td><td>NA   </td></tr>\n",
       "\t<tr><th scope=row>168</th><td>4    </td><td> 86  </td><td>16.25</td><td>F    </td><td>NA   </td></tr>\n",
       "\t<tr><th scope=row>18</th><td>1    </td><td>189  </td><td>42.00</td><td>F    </td><td>NA   </td></tr>\n",
       "\t<tr><th scope=row>142</th><td>4    </td><td>243  </td><td>32.10</td><td>F    </td><td>NA   </td></tr>\n",
       "\t<tr><th scope=row>146</th><td>4    </td><td>213  </td><td> 6.70</td><td>M    </td><td>NA   </td></tr>\n",
       "\t<tr><th scope=row>244</th><td>c    </td><td> 71  </td><td>11.50</td><td>M    </td><td>NA   </td></tr>\n",
       "\t<tr><th scope=row>111</th><td>3    </td><td>137  </td><td>15.30</td><td>F    </td><td>NA   </td></tr>\n",
       "\t<tr><th scope=row>163</th><td>4    </td><td>229  </td><td>11.25</td><td>F    </td><td>NA   </td></tr>\n",
       "\t<tr><th scope=row>51</th><td>1    </td><td>205  </td><td>21.75</td><td>F    </td><td>NA   </td></tr>\n",
       "</tbody>\n",
       "</table>\n"
      ],
      "text/latex": [
       "\\begin{tabular}{r|lllll}\n",
       "  & Group & File.No. & Age & Gender & Genetic\\\\\n",
       "\\hline\n",
       "\t95 & 3     & 239   &  3.90 & F     & NA   \\\\\n",
       "\t79 & 1     & 249   & 10.50 & F     & NA   \\\\\n",
       "\t168 & 4     &  86   & 16.25 & F     & NA   \\\\\n",
       "\t18 & 1     & 189   & 42.00 & F     & NA   \\\\\n",
       "\t142 & 4     & 243   & 32.10 & F     & NA   \\\\\n",
       "\t146 & 4     & 213   &  6.70 & M     & NA   \\\\\n",
       "\t244 & c     &  71   & 11.50 & M     & NA   \\\\\n",
       "\t111 & 3     & 137   & 15.30 & F     & NA   \\\\\n",
       "\t163 & 4     & 229   & 11.25 & F     & NA   \\\\\n",
       "\t51 & 1     & 205   & 21.75 & F     & NA   \\\\\n",
       "\\end{tabular}\n"
      ],
      "text/markdown": [
       "\n",
       "| <!--/--> | Group | File.No. | Age | Gender | Genetic | \n",
       "|---|---|---|---|---|---|---|---|---|---|\n",
       "| 95 | 3     | 239   |  3.90 | F     | NA    | \n",
       "| 79 | 1     | 249   | 10.50 | F     | NA    | \n",
       "| 168 | 4     |  86   | 16.25 | F     | NA    | \n",
       "| 18 | 1     | 189   | 42.00 | F     | NA    | \n",
       "| 142 | 4     | 243   | 32.10 | F     | NA    | \n",
       "| 146 | 4     | 213   |  6.70 | M     | NA    | \n",
       "| 244 | c     |  71   | 11.50 | M     | NA    | \n",
       "| 111 | 3     | 137   | 15.30 | F     | NA    | \n",
       "| 163 | 4     | 229   | 11.25 | F     | NA    | \n",
       "| 51 | 1     | 205   | 21.75 | F     | NA    | \n",
       "\n",
       "\n"
      ],
      "text/plain": [
       "    Group File.No. Age   Gender Genetic\n",
       "95  3     239       3.90 F      NA     \n",
       "79  1     249      10.50 F      NA     \n",
       "168 4      86      16.25 F      NA     \n",
       "18  1     189      42.00 F      NA     \n",
       "142 4     243      32.10 F      NA     \n",
       "146 4     213       6.70 M      NA     \n",
       "244 c      71      11.50 M      NA     \n",
       "111 3     137      15.30 F      NA     \n",
       "163 4     229      11.25 F      NA     \n",
       "51  1     205      21.75 F      NA     "
      ]
     },
     "metadata": {},
     "output_type": "display_data"
    }
   ],
   "source": [
    "set.seed(100)\n",
    "dplyr::sample_n(raw_data, 10)"
   ]
  },
  {
   "cell_type": "code",
   "execution_count": 5,
   "metadata": {},
   "outputs": [
    {
     "data": {
      "text/html": [
       "<ol class=list-inline>\n",
       "\t<li>'1'</li>\n",
       "\t<li>'3'</li>\n",
       "\t<li>'4'</li>\n",
       "\t<li>'c'</li>\n",
       "</ol>\n"
      ],
      "text/latex": [
       "\\begin{enumerate*}\n",
       "\\item '1'\n",
       "\\item '3'\n",
       "\\item '4'\n",
       "\\item 'c'\n",
       "\\end{enumerate*}\n"
      ],
      "text/markdown": [
       "1. '1'\n",
       "2. '3'\n",
       "3. '4'\n",
       "4. 'c'\n",
       "\n",
       "\n"
      ],
      "text/plain": [
       "[1] \"1\" \"3\" \"4\" \"c\""
      ]
     },
     "metadata": {},
     "output_type": "display_data"
    },
    {
     "data": {
      "text/html": [
       "<table>\n",
       "<thead><tr><th scope=col>Group</th><th scope=col>mean</th><th scope=col>sd</th></tr></thead>\n",
       "<tbody>\n",
       "\t<tr><td>1        </td><td>19.66739 </td><td>13.975618</td></tr>\n",
       "\t<tr><td>3        </td><td>15.41429 </td><td> 8.378421</td></tr>\n",
       "\t<tr><td>4        </td><td>17.12368 </td><td> 8.377559</td></tr>\n",
       "\t<tr><td>c        </td><td>17.71128 </td><td> 7.678985</td></tr>\n",
       "</tbody>\n",
       "</table>\n"
      ],
      "text/latex": [
       "\\begin{tabular}{r|lll}\n",
       " Group & mean & sd\\\\\n",
       "\\hline\n",
       "\t 1         & 19.66739  & 13.975618\\\\\n",
       "\t 3         & 15.41429  &  8.378421\\\\\n",
       "\t 4         & 17.12368  &  8.377559\\\\\n",
       "\t c         & 17.71128  &  7.678985\\\\\n",
       "\\end{tabular}\n"
      ],
      "text/markdown": [
       "\n",
       "Group | mean | sd | \n",
       "|---|---|---|---|\n",
       "| 1         | 19.66739  | 13.975618 | \n",
       "| 3         | 15.41429  |  8.378421 | \n",
       "| 4         | 17.12368  |  8.377559 | \n",
       "| c         | 17.71128  |  7.678985 | \n",
       "\n",
       "\n"
      ],
      "text/plain": [
       "  Group mean     sd       \n",
       "1 1     19.66739 13.975618\n",
       "2 3     15.41429  8.378421\n",
       "3 4     17.12368  8.377559\n",
       "4 c     17.71128  7.678985"
      ]
     },
     "metadata": {},
     "output_type": "display_data"
    },
    {
     "data": {
      "text/html": [
       "<ol class=list-inline>\n",
       "\t<li>'F'</li>\n",
       "\t<li>'M'</li>\n",
       "</ol>\n"
      ],
      "text/latex": [
       "\\begin{enumerate*}\n",
       "\\item 'F'\n",
       "\\item 'M'\n",
       "\\end{enumerate*}\n"
      ],
      "text/markdown": [
       "1. 'F'\n",
       "2. 'M'\n",
       "\n",
       "\n"
      ],
      "text/plain": [
       "[1] \"F\" \"M\""
      ]
     },
     "metadata": {},
     "output_type": "display_data"
    },
    {
     "data": {
      "text/html": [
       "<table>\n",
       "<thead><tr><th scope=col>Group</th><th scope=col>Gender</th><th scope=col>n</th></tr></thead>\n",
       "<tbody>\n",
       "\t<tr><td>1 </td><td>F </td><td>46</td></tr>\n",
       "\t<tr><td>1 </td><td>M </td><td>42</td></tr>\n",
       "\t<tr><td>3 </td><td>F </td><td>19</td></tr>\n",
       "\t<tr><td>3 </td><td>M </td><td> 9</td></tr>\n",
       "\t<tr><td>4 </td><td>F </td><td>31</td></tr>\n",
       "\t<tr><td>4 </td><td>M </td><td>26</td></tr>\n",
       "\t<tr><td>c </td><td>F </td><td>65</td></tr>\n",
       "\t<tr><td>c </td><td>M </td><td>68</td></tr>\n",
       "</tbody>\n",
       "</table>\n"
      ],
      "text/latex": [
       "\\begin{tabular}{r|lll}\n",
       " Group & Gender & n\\\\\n",
       "\\hline\n",
       "\t 1  & F  & 46\\\\\n",
       "\t 1  & M  & 42\\\\\n",
       "\t 3  & F  & 19\\\\\n",
       "\t 3  & M  &  9\\\\\n",
       "\t 4  & F  & 31\\\\\n",
       "\t 4  & M  & 26\\\\\n",
       "\t c  & F  & 65\\\\\n",
       "\t c  & M  & 68\\\\\n",
       "\\end{tabular}\n"
      ],
      "text/markdown": [
       "\n",
       "Group | Gender | n | \n",
       "|---|---|---|---|---|---|---|---|\n",
       "| 1  | F  | 46 | \n",
       "| 1  | M  | 42 | \n",
       "| 3  | F  | 19 | \n",
       "| 3  | M  |  9 | \n",
       "| 4  | F  | 31 | \n",
       "| 4  | M  | 26 | \n",
       "| c  | F  | 65 | \n",
       "| c  | M  | 68 | \n",
       "\n",
       "\n"
      ],
      "text/plain": [
       "  Group Gender n \n",
       "1 1     F      46\n",
       "2 1     M      42\n",
       "3 3     F      19\n",
       "4 3     M       9\n",
       "5 4     F      31\n",
       "6 4     M      26\n",
       "7 c     F      65\n",
       "8 c     M      68"
      ]
     },
     "metadata": {},
     "output_type": "display_data"
    }
   ],
   "source": [
    "# Check that Group and Gender are categorical data\n",
    "levels(raw_data$Group)\n",
    "grouped_data <- group_by(raw_data, Group)\n",
    "summarise(grouped_data, mean=mean(Age), sd=sd(Age))\n",
    "levels(raw_data$Gender)\n",
    "count(grouped_data, Gender)"
   ]
  },
  {
   "cell_type": "markdown",
   "metadata": {},
   "source": [
    "## Sample Group Assessment\n",
    "\n",
    "Let us verify that the samples do not have any statistically significant differences between each other in terms of age and sex. We will use anova testing for the age of the patients and the chi-squared test for the sex of the groups."
   ]
  },
  {
   "cell_type": "code",
   "execution_count": 6,
   "metadata": {},
   "outputs": [
    {
     "data": {},
     "metadata": {},
     "output_type": "display_data"
    },
    {
     "data": {
      "image/png": "[encoded data removed]",
      "text/plain": [
       "plot without title"
      ]
     },
     "metadata": {},
     "output_type": "display_data"
    }
   ],
   "source": [
    "# Plot the group ages\n",
    "ggplot2::ggplot(raw_data, ggplot2::aes(x=Group, y=Age, color=Group)) + ggplot2::geom_boxplot()"
   ]
  },
  {
   "cell_type": "code",
   "execution_count": 7,
   "metadata": {},
   "outputs": [
    {
     "data": {
      "text/plain": [
       "             Df Sum Sq Mean Sq F value Pr(>F)\n",
       "Group         3    486   162.0   1.599   0.19\n",
       "Residuals   302  30602   101.3               "
      ]
     },
     "metadata": {},
     "output_type": "display_data"
    }
   ],
   "source": [
    "# Compute the analysis of variance on the age of the patients (ANOVA)\n",
    "res.aov <- aov(Age ~ Group, data = raw_data)\n",
    "# Summary of the analysis\n",
    "summary(res.aov)"
   ]
  },
  {
   "cell_type": "code",
   "execution_count": 8,
   "metadata": {
    "scrolled": true
   },
   "outputs": [
    {
     "data": {
      "text/plain": [
       "\n",
       "\tPearson's Chi-squared test\n",
       "\n",
       "data:  raw_data$Group and raw_data$Gender\n",
       "X-squared = 3.4323, df = 3, p-value = 0.3296\n"
      ]
     },
     "metadata": {},
     "output_type": "display_data"
    }
   ],
   "source": [
    "# Compute the analysis of variance on the gender of the patients (Chi-Square)\n",
    "chisq.test(raw_data$Group, raw_data$Gender, correct=FALSE)"
   ]
  },
  {
   "cell_type": "markdown",
   "metadata": {},
   "source": [
    "**Neither the anova or chi-squared test showed statistically significant differences betweeen the groups. We can now commence our analysis.**"
   ]
  },
  {
   "cell_type": "markdown",
   "metadata": {},
   "source": [
    "## Statistical Shape Analysis\n",
    "1. Load data\n",
    "2. Clean data\n",
    "3. Create group matrices KxNxM\n",
    "4. Compute mean shape per group\n",
    "5. Compute mean euclidean distance per group\n",
    "6. Compute facial ratios and lfh for each groups"
   ]
  },
  {
   "cell_type": "markdown",
   "metadata": {},
   "source": [
    "### Load Data\n",
    "We grab the landmark coordinates from csv file that was created by our image processing script"
   ]
  },
  {
   "cell_type": "code",
   "execution_count": 9,
   "metadata": {},
   "outputs": [
    {
     "name": "stdout",
     "output_type": "stream",
     "text": [
      "'data.frame':\t68 obs. of  615 variables:\n",
      " $ X          : int  0 1 2 3 4 5 6 7 8 9 ...\n",
      " $ X.oi_t1.115: int  97 101 108 118 133 158 188 216 247 278 ...\n",
      " $ Y.oi_t1.115: int  309 350 389 426 460 486 506 524 531 526 ...\n",
      " $ X.oi_t1.135: int  97 103 111 121 134 156 187 223 260 297 ...\n",
      " $ Y.oi_t1.135: int  326 366 403 440 474 501 522 537 541 536 ...\n",
      " $ X.oi_t1.161: int  74 77 84 95 112 138 174 210 252 293 ...\n",
      " $ Y.oi_t1.161: int  349 393 436 478 517 549 573 593 598 591 ...\n",
      " $ X.oi_t1.131: int  110 116 123 129 141 163 193 225 261 297 ...\n",
      " $ Y.oi_t1.131: int  300 339 375 410 443 470 490 507 512 507 ...\n",
      " $ X.oi_t1.022: int  89 96 105 116 133 159 191 224 258 292 ...\n",
      " $ Y.oi_t1.022: int  369 412 453 493 530 562 588 613 620 614 ...\n",
      " $ X.oi_t1.004: int  94 94 97 102 112 133 163 201 244 286 ...\n",
      " $ Y.oi_t1.004: int  292 330 367 404 440 470 496 515 521 519 ...\n",
      " $ X.oi_t1.053: int  97 98 103 111 125 147 177 211 247 281 ...\n",
      " $ Y.oi_t1.053: int  343 380 415 450 483 512 536 554 561 555 ...\n",
      " $ X.oi_t1.158: int  111 117 125 132 146 173 206 240 276 314 ...\n",
      " $ Y.oi_t1.158: int  323 365 404 444 482 512 536 559 566 558 ...\n",
      " $ X.oi_t1.267: int  47 53 62 71 86 112 145 179 220 265 ...\n",
      " $ Y.oi_t1.267: int  343 390 437 483 528 567 598 625 635 629 ...\n",
      " $ X.oi_t1.013: int  117 119 120 124 136 158 184 213 250 285 ...\n",
      " $ Y.oi_t1.013: int  290 321 351 381 408 430 446 459 461 456 ...\n",
      " $ X.oi_t1.232: int  98 99 102 109 123 148 179 213 254 295 ...\n",
      " $ Y.oi_t1.232: int  274 316 357 398 436 469 496 518 522 517 ...\n",
      " $ X.oi_t1.105: int  76 83 94 108 125 148 179 213 249 285 ...\n",
      " $ Y.oi_t1.105: int  348 394 437 479 519 555 585 605 612 605 ...\n",
      " $ X.oi_t1.149: int  81 89 99 109 125 151 185 219 254 289 ...\n",
      " $ Y.oi_t1.149: int  353 395 436 475 510 540 563 585 592 586 ...\n",
      " $ X.oi_t1.160: int  101 101 102 108 121 146 177 211 250 290 ...\n",
      " $ Y.oi_t1.160: int  356 397 434 473 510 540 565 583 589 583 ...\n",
      " $ X.oi_t1.116: int  112 117 126 133 144 168 199 231 271 310 ...\n",
      " $ Y.oi_t1.116: int  327 369 409 449 486 515 538 559 565 560 ...\n",
      " $ X.oi_t1.043: int  105 110 118 126 138 158 187 216 248 281 ...\n",
      " $ Y.oi_t1.043: int  320 352 382 412 441 465 482 497 503 498 ...\n",
      " $ X.oi_t1.234: int  102 105 114 123 136 160 190 222 257 290 ...\n",
      " $ Y.oi_t1.234: int  291 328 363 396 428 454 473 486 491 484 ...\n",
      " $ X.oi_t1.192: int  118 120 122 127 138 157 181 210 245 281 ...\n",
      " $ Y.oi_t1.192: int  275 308 341 373 403 430 451 469 474 471 ...\n",
      " $ X.oi_t1.059: int  124 126 131 138 151 173 201 230 263 296 ...\n",
      " $ Y.oi_t1.059: int  337 376 413 451 484 513 535 554 561 556 ...\n",
      " $ X.oi_t1.186: int  112 114 121 130 143 162 188 215 246 279 ...\n",
      " $ Y.oi_t1.186: int  287 323 359 395 430 461 487 507 514 506 ...\n",
      " $ X.oi_t1.166: int  73 81 91 102 117 141 173 209 247 286 ...\n",
      " $ Y.oi_t1.166: int  320 364 406 448 486 519 545 566 572 563 ...\n",
      " $ X.oi_t1.104: int  71 76 84 94 108 130 158 192 229 264 ...\n",
      " $ Y.oi_t1.104: int  358 399 439 479 516 548 576 595 600 595 ...\n",
      " $ X.oi_t1.150: int  62 71 81 92 111 138 174 214 253 293 ...\n",
      " $ Y.oi_t1.150: int  379 428 474 519 560 596 621 641 648 642 ...\n",
      " $ X.oi_t1.230: int  136 141 148 157 167 182 202 225 252 278 ...\n",
      " $ Y.oi_t1.230: int  360 390 418 445 471 496 517 534 540 534 ...\n",
      " $ X.oi_t1.207: int  102 103 110 117 128 146 173 205 244 284 ...\n",
      " $ Y.oi_t1.207: int  331 370 406 444 479 513 544 568 575 568 ...\n",
      " $ X.oi_t1.173: int  79 88 101 113 133 164 200 237 274 309 ...\n",
      " $ Y.oi_t1.173: int  335 387 435 480 521 555 583 605 611 603 ...\n",
      " $ X.oi_t1.106: int  86 92 101 111 124 146 178 214 250 285 ...\n",
      " $ Y.oi_t1.106: int  297 337 374 410 445 475 497 513 517 511 ...\n",
      " $ X.oi_t1.021: int  114 115 119 128 145 171 198 226 254 281 ...\n",
      " $ Y.oi_t1.021: int  381 418 455 490 520 547 570 591 599 592 ...\n",
      " $ X.oi_t1.092: int  84 89 95 103 119 143 176 210 248 285 ...\n",
      " $ Y.oi_t1.092: int  318 357 395 433 466 492 510 522 527 522 ...\n",
      " $ X.oi_t1.184: int  102 108 116 124 136 159 188 220 251 283 ...\n",
      " $ Y.oi_t1.184: int  320 355 387 421 455 482 505 527 534 527 ...\n",
      " $ X.oi_t1.254: int  116 116 119 126 139 158 182 213 250 287 ...\n",
      " $ Y.oi_t1.254: int  294 331 368 405 442 477 506 531 537 532 ...\n",
      " $ X.oi_t1.249: int  50 60 72 86 106 138 179 223 266 308 ...\n",
      " $ Y.oi_t1.249: int  339 392 441 490 533 567 592 610 616 607 ...\n",
      " $ X.oi_t1.185: int  49 53 61 71 86 115 155 198 243 288 ...\n",
      " $ Y.oi_t1.185: int  352 401 448 494 539 576 606 629 638 631 ...\n",
      " $ X.oi_t1.251: int  97 98 101 109 126 152 184 218 251 284 ...\n",
      " $ Y.oi_t1.251: int  298 339 379 418 455 486 510 531 537 531 ...\n",
      " $ X.oi_t1.045: int  97 103 111 116 127 149 177 208 242 275 ...\n",
      " $ Y.oi_t1.045: int  386 424 458 493 527 554 577 597 604 598 ...\n",
      " $ X.oi_t1.252: int  107 110 116 123 135 155 181 212 246 281 ...\n",
      " $ Y.oi_t1.252: int  299 337 375 412 447 476 499 517 523 519 ...\n",
      " $ X.oi_t1.152: int  84 89 96 104 117 139 166 198 237 278 ...\n",
      " $ Y.oi_t1.152: int  306 350 392 434 474 511 545 572 581 574 ...\n",
      " $ X.oi_t1.226: int  136 139 144 149 159 177 198 222 251 280 ...\n",
      " $ Y.oi_t1.226: int  202 231 260 289 314 336 356 376 383 378 ...\n",
      " $ X.oi_t1.044: int  114 115 120 125 136 156 184 215 247 279 ...\n",
      " $ Y.oi_t1.044: int  388 422 455 489 519 547 567 583 588 584 ...\n",
      " $ X.oi_t1.154: int  122 127 134 146 159 177 205 238 272 305 ...\n",
      " $ Y.oi_t1.154: int  345 380 414 448 479 509 532 546 551 545 ...\n",
      " $ X.oi_t1.271: int  100 106 114 123 138 159 187 218 252 287 ...\n",
      " $ Y.oi_t1.271: int  306 344 380 416 450 477 501 521 529 521 ...\n",
      " $ X.oi_t1.155: int  92 97 106 114 128 152 185 222 261 302 ...\n",
      " $ Y.oi_t1.155: int  339 381 420 460 497 528 551 570 578 572 ...\n",
      " $ X.oi_t1.012: int  114 117 121 126 134 152 178 210 250 289 ...\n",
      " $ Y.oi_t1.012: int  293 326 358 390 422 447 466 479 482 479 ...\n",
      " $ X.oi_t1.103: int  92 97 105 113 125 144 172 202 236 271 ...\n",
      " $ Y.oi_t1.103: int  307 345 382 418 453 482 505 525 533 528 ...\n",
      " $ X.oi_t1.171: int  76 75 78 82 92 111 139 174 217 261 ...\n",
      " $ Y.oi_t1.171: int  302 343 383 424 462 495 521 541 547 545 ...\n",
      " $ X.oi_t1.225: int  79 82 86 94 107 130 160 191 225 257 ...\n",
      " $ Y.oi_t1.225: int  374 408 441 473 503 526 544 554 560 555 ...\n",
      " $ X.oi_t1.025: int  69 77 87 97 114 143 182 223 266 309 ...\n",
      " $ Y.oi_t1.025: int  380 426 468 511 549 579 605 627 634 628 ...\n",
      " $ X.oi_t1.148: int  68 75 83 93 111 138 169 200 232 265 ...\n",
      " $ Y.oi_t1.148: int  373 415 456 494 529 556 578 596 602 598 ...\n",
      " $ X.oi_t1.035: int  105 103 105 109 120 140 168 201 241 282 ...\n",
      " $ Y.oi_t1.035: int  247 289 330 370 409 443 470 496 502 498 ...\n",
      "  [list output truncated]\n"
     ]
    },
    {
     "data": {
      "text/html": [
       "<table>\n",
       "<thead><tr><th scope=col>X</th><th scope=col>X.oi_t1.115</th><th scope=col>Y.oi_t1.115</th><th scope=col>X.oi_t1.135</th><th scope=col>Y.oi_t1.135</th><th scope=col>X.oi_t1.161</th><th scope=col>Y.oi_t1.161</th><th scope=col>X.oi_t1.131</th><th scope=col>Y.oi_t1.131</th><th scope=col>X.oi_t1.022</th><th scope=col>⋯</th><th scope=col>X.ctl.90</th><th scope=col>Y.ctl.90</th><th scope=col>X.ctl.3</th><th scope=col>Y.ctl.3</th><th scope=col>X.ctl.62</th><th scope=col>Y.ctl.62</th><th scope=col>X.ctl.31</th><th scope=col>Y.ctl.31</th><th scope=col>X.ctl.51</th><th scope=col>Y.ctl.51</th></tr></thead>\n",
       "<tbody>\n",
       "\t<tr><td>0  </td><td> 97</td><td>309</td><td> 97</td><td>326</td><td> 74</td><td>349</td><td>110</td><td>300</td><td> 89</td><td>⋯  </td><td>142</td><td>303</td><td>103</td><td>291</td><td>111</td><td>286</td><td>101</td><td>338</td><td>124</td><td>298</td></tr>\n",
       "\t<tr><td>1  </td><td>101</td><td>350</td><td>103</td><td>366</td><td> 77</td><td>393</td><td>116</td><td>339</td><td> 96</td><td>⋯  </td><td>143</td><td>337</td><td>107</td><td>331</td><td>114</td><td>323</td><td>104</td><td>377</td><td>127</td><td>331</td></tr>\n",
       "\t<tr><td>2  </td><td>108</td><td>389</td><td>111</td><td>403</td><td> 84</td><td>436</td><td>123</td><td>375</td><td>105</td><td>⋯  </td><td>147</td><td>371</td><td>114</td><td>369</td><td>119</td><td>358</td><td>109</td><td>415</td><td>135</td><td>362</td></tr>\n",
       "\t<tr><td>3  </td><td>118</td><td>426</td><td>121</td><td>440</td><td> 95</td><td>478</td><td>129</td><td>410</td><td>116</td><td>⋯  </td><td>152</td><td>405</td><td>119</td><td>407</td><td>126</td><td>393</td><td>116</td><td>453</td><td>143</td><td>392</td></tr>\n",
       "\t<tr><td>4  </td><td>133</td><td>460</td><td>134</td><td>474</td><td>112</td><td>517</td><td>141</td><td>443</td><td>133</td><td>⋯  </td><td>161</td><td>438</td><td>126</td><td>444</td><td>140</td><td>425</td><td>130</td><td>490</td><td>157</td><td>421</td></tr>\n",
       "\t<tr><td>5  </td><td>158</td><td>486</td><td>156</td><td>501</td><td>138</td><td>549</td><td>163</td><td>470</td><td>159</td><td>⋯  </td><td>180</td><td>466</td><td>147</td><td>475</td><td>160</td><td>453</td><td>152</td><td>521</td><td>174</td><td>447</td></tr>\n",
       "</tbody>\n",
       "</table>\n"
      ],
      "text/latex": [
       "\\begin{tabular}{r|lllllllllllllllllllllllllllllllllllllllllllllllllllllllllllllllllllllllllllllllllllllllllllllllllllllllllllllllllllllllllllllllllllllllllllllllllllllllllllllllllllllllllllllllllllllllllllllllllllllllllllllllllllllllllllllllllllllllllllllllllllllllllllllllllllllllllllllllllllllllllllllllllllllllllllllllllllllllllllllllllllllllllllllllllllllllllllllllllllllllllllllllllllllllllllllllllllllllllllllllllllllllllllllllllllllllllllllllllllllllllllllllllllllllllllllllllllllllllllllllllllllllllllllllllllllllllllllllllllllllllllllllllllllllllllllllllllllllllllllllllllllllllllllllllllllllllllllllllllllllllllllllllllllll}\n",
       " X & X.oi\\_t1.115 & Y.oi\\_t1.115 & X.oi\\_t1.135 & Y.oi\\_t1.135 & X.oi\\_t1.161 & Y.oi\\_t1.161 & X.oi\\_t1.131 & Y.oi\\_t1.131 & X.oi\\_t1.022 & ⋯ & X.ctl.90 & Y.ctl.90 & X.ctl.3 & Y.ctl.3 & X.ctl.62 & Y.ctl.62 & X.ctl.31 & Y.ctl.31 & X.ctl.51 & Y.ctl.51\\\\\n",
       "\\hline\n",
       "\t 0   &  97 & 309 &  97 & 326 &  74 & 349 & 110 & 300 &  89 & ⋯   & 142 & 303 & 103 & 291 & 111 & 286 & 101 & 338 & 124 & 298\\\\\n",
       "\t 1   & 101 & 350 & 103 & 366 &  77 & 393 & 116 & 339 &  96 & ⋯   & 143 & 337 & 107 & 331 & 114 & 323 & 104 & 377 & 127 & 331\\\\\n",
       "\t 2   & 108 & 389 & 111 & 403 &  84 & 436 & 123 & 375 & 105 & ⋯   & 147 & 371 & 114 & 369 & 119 & 358 & 109 & 415 & 135 & 362\\\\\n",
       "\t 3   & 118 & 426 & 121 & 440 &  95 & 478 & 129 & 410 & 116 & ⋯   & 152 & 405 & 119 & 407 & 126 & 393 & 116 & 453 & 143 & 392\\\\\n",
       "\t 4   & 133 & 460 & 134 & 474 & 112 & 517 & 141 & 443 & 133 & ⋯   & 161 & 438 & 126 & 444 & 140 & 425 & 130 & 490 & 157 & 421\\\\\n",
       "\t 5   & 158 & 486 & 156 & 501 & 138 & 549 & 163 & 470 & 159 & ⋯   & 180 & 466 & 147 & 475 & 160 & 453 & 152 & 521 & 174 & 447\\\\\n",
       "\\end{tabular}\n"
      ],
      "text/markdown": [
       "\n",
       "X | X.oi_t1.115 | Y.oi_t1.115 | X.oi_t1.135 | Y.oi_t1.135 | X.oi_t1.161 | Y.oi_t1.161 | X.oi_t1.131 | Y.oi_t1.131 | X.oi_t1.022 | ⋯ | X.ctl.90 | Y.ctl.90 | X.ctl.3 | Y.ctl.3 | X.ctl.62 | Y.ctl.62 | X.ctl.31 | Y.ctl.31 | X.ctl.51 | Y.ctl.51 | \n",
       "|---|---|---|---|---|---|\n",
       "| 0   |  97 | 309 |  97 | 326 |  74 | 349 | 110 | 300 |  89 | ⋯   | 142 | 303 | 103 | 291 | 111 | 286 | 101 | 338 | 124 | 298 | \n",
       "| 1   | 101 | 350 | 103 | 366 |  77 | 393 | 116 | 339 |  96 | ⋯   | 143 | 337 | 107 | 331 | 114 | 323 | 104 | 377 | 127 | 331 | \n",
       "| 2   | 108 | 389 | 111 | 403 |  84 | 436 | 123 | 375 | 105 | ⋯   | 147 | 371 | 114 | 369 | 119 | 358 | 109 | 415 | 135 | 362 | \n",
       "| 3   | 118 | 426 | 121 | 440 |  95 | 478 | 129 | 410 | 116 | ⋯   | 152 | 405 | 119 | 407 | 126 | 393 | 116 | 453 | 143 | 392 | \n",
       "| 4   | 133 | 460 | 134 | 474 | 112 | 517 | 141 | 443 | 133 | ⋯   | 161 | 438 | 126 | 444 | 140 | 425 | 130 | 490 | 157 | 421 | \n",
       "| 5   | 158 | 486 | 156 | 501 | 138 | 549 | 163 | 470 | 159 | ⋯   | 180 | 466 | 147 | 475 | 160 | 453 | 152 | 521 | 174 | 447 | \n",
       "\n",
       "\n"
      ],
      "text/plain": [
       "  X X.oi_t1.115 Y.oi_t1.115 X.oi_t1.135 Y.oi_t1.135 X.oi_t1.161 Y.oi_t1.161\n",
       "1 0  97         309          97         326          74         349        \n",
       "2 1 101         350         103         366          77         393        \n",
       "3 2 108         389         111         403          84         436        \n",
       "4 3 118         426         121         440          95         478        \n",
       "5 4 133         460         134         474         112         517        \n",
       "6 5 158         486         156         501         138         549        \n",
       "  X.oi_t1.131 Y.oi_t1.131 X.oi_t1.022 ⋯ X.ctl.90 Y.ctl.90 X.ctl.3 Y.ctl.3\n",
       "1 110         300          89         ⋯ 142      303      103     291    \n",
       "2 116         339          96         ⋯ 143      337      107     331    \n",
       "3 123         375         105         ⋯ 147      371      114     369    \n",
       "4 129         410         116         ⋯ 152      405      119     407    \n",
       "5 141         443         133         ⋯ 161      438      126     444    \n",
       "6 163         470         159         ⋯ 180      466      147     475    \n",
       "  X.ctl.62 Y.ctl.62 X.ctl.31 Y.ctl.31 X.ctl.51 Y.ctl.51\n",
       "1 111      286      101      338      124      298     \n",
       "2 114      323      104      377      127      331     \n",
       "3 119      358      109      415      135      362     \n",
       "4 126      393      116      453      143      392     \n",
       "5 140      425      130      490      157      421     \n",
       "6 160      453      152      521      174      447     "
      ]
     },
     "metadata": {},
     "output_type": "display_data"
    }
   ],
   "source": [
    "# lets now load our ladmark data\n",
    "csv_data_file = './processed-dat//ldmk_coords.csv'\n",
    "ldmk_data <- read.csv(csv_data_file, header = TRUE)\n",
    "str(ldmk_data)\n",
    "head(ldmk_data)"
   ]
  },
  {
   "cell_type": "markdown",
   "metadata": {},
   "source": [
    "### Data Cleanup\n",
    "Let's bind our landmark data to our current patient database"
   ]
  },
  {
   "cell_type": "code",
   "execution_count": 10,
   "metadata": {},
   "outputs": [],
   "source": [
    "# this function takes as input a patient's group and file number and will fetch the X and Y coordinates of each\n",
    "# landmark and bind them to our database\n",
    "bind_to_patient <- function(inpt_db, ldmk_cols){\n",
    "    matchno <- 0\n",
    "    tmp_df_list <- list()\n",
    "    \n",
    "    for (i in rownames(inpt_db)){\n",
    "        i <- as.integer(i)\n",
    "        grp <- inpt_db[i,]$Group\n",
    "        fln <- inpt_db[i,]$File.No.\n",
    "        \n",
    "        # find the matching group and create the appropriate label\n",
    "        if (grp == 1){\n",
    "            if (fln > 99){\n",
    "                pt <- paste('oi_t1.',as.character(inpt_db[i,]$File.No.),sep='')\n",
    "            }\n",
    "            if (fln < 100 && fln > 9){\n",
    "                pt <- paste('oi_t1.0',as.character(inpt_db[i,]$File.No.),sep='')\n",
    "            }\n",
    "            if (fln <10){\n",
    "                pt <- paste('oi_t1.00',as.character(inpt_db[i,]$File.No.),sep='')\n",
    "            }\n",
    "        }\n",
    "\n",
    "        if (grp == 3){\n",
    "            if (fln > 99){\n",
    "                pt <- paste('oi_t3.',as.character(inpt_db[i,]$File.No.),sep='')\n",
    "            }\n",
    "            if (fln < 100 && fln > 9){\n",
    "                pt <- paste('oi_t3.0',as.character(inpt_db[i,]$File.No.),sep='')\n",
    "            }\n",
    "            if (fln <10){\n",
    "                pt <- paste('oi_t3.00',as.character(inpt_db[i,]$File.No.),sep='')\n",
    "            }\n",
    "        }\n",
    "\n",
    "        if (grp == 4){\n",
    "            if (fln > 99){\n",
    "                pt <- paste('oi_t4.',as.character(inpt_db[i,]$File.No.),sep='')\n",
    "            }\n",
    "            if (fln < 100 && fln > 9){\n",
    "                pt <- paste('oi_t4.0',as.character(inpt_db[i,]$File.No.),sep='')\n",
    "            }\n",
    "            if (fln <10){\n",
    "                pt <- paste('oi_t4.00',as.character(inpt_db[i,]$File.No.),sep='')\n",
    "            }\n",
    "        }\n",
    "\n",
    "        if (as.character(grp) == 'c'){\n",
    "            pt <- paste('ctl.',as.character(inpt_db[i,]$File.No.),sep='')\n",
    "        \n",
    "        }\n",
    "\n",
    "        # begin by finding matching columns\n",
    "        prelim_index_matches <- grep(pt, ldmk_cols)\n",
    "    \n",
    "        # grep with the ldmk data rownames and then verify to have only the results who are nchars + 2 to\n",
    "        # avoid partial matches **** ie. 20 in 200\n",
    "        index_matches <- c()\n",
    "        for (id in prelim_index_matches){\n",
    "            if (nchar(ldmk_cols[id]) == (nchar(pt) + 2)){\n",
    "                index_matches <- c(index_matches, id)\n",
    "            }\n",
    "        }\n",
    "        \n",
    "        # skip forward if no matches ar found\n",
    "        if (length(index_matches) == 0){\n",
    "            print('[ERROR] No matches found')\n",
    "            print(pt)\n",
    "            next\n",
    "        }\n",
    "        \n",
    "        # verify matches are accurate and that there are only 2 (x,y) [ie length=1]\n",
    "        if (length(index_matches) != 2){\n",
    "            print('[ERROR] Duplicate data in grep function') \n",
    "            next\n",
    "        }\n",
    "\n",
    "        matchno <- matchno + 1\n",
    "        # create a 136 row array and bind it to the correct \n",
    "        a <- ldmk_data[index_matches[1]]\n",
    "        b <- ldmk_data[index_matches[2]]\n",
    "        a <- t(a)\n",
    "        b <- t(b)\n",
    "        c <- cbind(a,b)\n",
    "\n",
    "        # create a new row for our database and append it to our list of dataframes\n",
    "        new_row <- cbind(inpt_db[i,], c)\n",
    "        x <- length(tmp_df_list)+1\n",
    "        tmp_df_list[[x]] <- new_row\n",
    "\n",
    "    }\n",
    "    \n",
    "    # concatenate our dataframes into our final output database\n",
    "    outpt_db <- do.call(\"rbind\", tmp_df_list)\n",
    "\n",
    "    return(outpt_db)\n",
    "}\n",
    "\n",
    "ldmk_col_names <- colnames(ldmk_data)\n",
    "full_db <- bind_to_patient(raw_data, ldmk_col_names)\n",
    "\n",
    "\n",
    "\n"
   ]
  },
  {
   "cell_type": "code",
   "execution_count": 11,
   "metadata": {},
   "outputs": [
    {
     "data": {
      "text/html": [
       "<table>\n",
       "<thead><tr><th scope=col>Group</th><th scope=col>File.No.</th><th scope=col>Age</th><th scope=col>Gender</th><th scope=col>Genetic</th><th scope=col>1</th><th scope=col>2</th><th scope=col>3</th><th scope=col>4</th><th scope=col>5</th><th scope=col>⋯</th><th scope=col>127</th><th scope=col>128</th><th scope=col>129</th><th scope=col>130</th><th scope=col>131</th><th scope=col>132</th><th scope=col>133</th><th scope=col>134</th><th scope=col>135</th><th scope=col>136</th></tr></thead>\n",
       "<tbody>\n",
       "\t<tr><td>1    </td><td>247  </td><td> 9.75</td><td>F    </td><td>NA   </td><td>115  </td><td>122  </td><td>131  </td><td>140  </td><td>153  </td><td>⋯    </td><td>453  </td><td>451  </td><td>444  </td><td>436  </td><td>437  </td><td>437  </td><td>447  </td><td>439  </td><td>440  </td><td>438  </td></tr>\n",
       "\t<tr><td>1    </td><td>248  </td><td>46.00</td><td>M    </td><td>NA   </td><td>145  </td><td>146  </td><td>150  </td><td>158  </td><td>170  </td><td>⋯    </td><td>482  </td><td>479  </td><td>472  </td><td>468  </td><td>469  </td><td>468  </td><td>472  </td><td>465  </td><td>467  </td><td>465  </td></tr>\n",
       "\t<tr><td>1    </td><td>117  </td><td> 9.50</td><td>M    </td><td>NA   </td><td>110  </td><td>116  </td><td>123  </td><td>130  </td><td>144  </td><td>⋯    </td><td>518  </td><td>514  </td><td>505  </td><td>504  </td><td>504  </td><td>504  </td><td>506  </td><td>503  </td><td>504  </td><td>504  </td></tr>\n",
       "\t<tr><td>1    </td><td>118  </td><td> 4.50</td><td>F    </td><td>NA   </td><td> 69  </td><td> 76  </td><td> 85  </td><td> 96  </td><td>112  </td><td>⋯    </td><td>505  </td><td>501  </td><td>491  </td><td>483  </td><td>485  </td><td>484  </td><td>493  </td><td>485  </td><td>486  </td><td>484  </td></tr>\n",
       "\t<tr><td>1    </td><td> 10  </td><td>16.50</td><td>M    </td><td>NA   </td><td>123  </td><td>125  </td><td>129  </td><td>135  </td><td>149  </td><td>⋯    </td><td>436  </td><td>430  </td><td>420  </td><td>419  </td><td>421  </td><td>420  </td><td>423  </td><td>420  </td><td>421  </td><td>419  </td></tr>\n",
       "\t<tr><td>1    </td><td>145  </td><td>32.00</td><td>F    </td><td>NA   </td><td>100  </td><td>104  </td><td>111  </td><td>119  </td><td>133  </td><td>⋯    </td><td>487  </td><td>484  </td><td>473  </td><td>472  </td><td>473  </td><td>473  </td><td>475  </td><td>471  </td><td>473  </td><td>471  </td></tr>\n",
       "</tbody>\n",
       "</table>\n"
      ],
      "text/latex": [
       "\\begin{tabular}{r|lllllllllllllllllllllllllllllllllllllllllllllllllllllllllllllllllllllllllllllllllllllllllllllllllllllllllllllllllllllllllllllllllllllllllllll}\n",
       " Group & File.No. & Age & Gender & Genetic & 1 & 2 & 3 & 4 & 5 & ⋯ & 127 & 128 & 129 & 130 & 131 & 132 & 133 & 134 & 135 & 136\\\\\n",
       "\\hline\n",
       "\t 1     & 247   &  9.75 & F     & NA    & 115   & 122   & 131   & 140   & 153   & ⋯     & 453   & 451   & 444   & 436   & 437   & 437   & 447   & 439   & 440   & 438  \\\\\n",
       "\t 1     & 248   & 46.00 & M     & NA    & 145   & 146   & 150   & 158   & 170   & ⋯     & 482   & 479   & 472   & 468   & 469   & 468   & 472   & 465   & 467   & 465  \\\\\n",
       "\t 1     & 117   &  9.50 & M     & NA    & 110   & 116   & 123   & 130   & 144   & ⋯     & 518   & 514   & 505   & 504   & 504   & 504   & 506   & 503   & 504   & 504  \\\\\n",
       "\t 1     & 118   &  4.50 & F     & NA    &  69   &  76   &  85   &  96   & 112   & ⋯     & 505   & 501   & 491   & 483   & 485   & 484   & 493   & 485   & 486   & 484  \\\\\n",
       "\t 1     &  10   & 16.50 & M     & NA    & 123   & 125   & 129   & 135   & 149   & ⋯     & 436   & 430   & 420   & 419   & 421   & 420   & 423   & 420   & 421   & 419  \\\\\n",
       "\t 1     & 145   & 32.00 & F     & NA    & 100   & 104   & 111   & 119   & 133   & ⋯     & 487   & 484   & 473   & 472   & 473   & 473   & 475   & 471   & 473   & 471  \\\\\n",
       "\\end{tabular}\n"
      ],
      "text/markdown": [
       "\n",
       "Group | File.No. | Age | Gender | Genetic | 1 | 2 | 3 | 4 | 5 | ⋯ | 127 | 128 | 129 | 130 | 131 | 132 | 133 | 134 | 135 | 136 | \n",
       "|---|---|---|---|---|---|\n",
       "| 1     | 247   |  9.75 | F     | NA    | 115   | 122   | 131   | 140   | 153   | ⋯     | 453   | 451   | 444   | 436   | 437   | 437   | 447   | 439   | 440   | 438   | \n",
       "| 1     | 248   | 46.00 | M     | NA    | 145   | 146   | 150   | 158   | 170   | ⋯     | 482   | 479   | 472   | 468   | 469   | 468   | 472   | 465   | 467   | 465   | \n",
       "| 1     | 117   |  9.50 | M     | NA    | 110   | 116   | 123   | 130   | 144   | ⋯     | 518   | 514   | 505   | 504   | 504   | 504   | 506   | 503   | 504   | 504   | \n",
       "| 1     | 118   |  4.50 | F     | NA    |  69   |  76   |  85   |  96   | 112   | ⋯     | 505   | 501   | 491   | 483   | 485   | 484   | 493   | 485   | 486   | 484   | \n",
       "| 1     |  10   | 16.50 | M     | NA    | 123   | 125   | 129   | 135   | 149   | ⋯     | 436   | 430   | 420   | 419   | 421   | 420   | 423   | 420   | 421   | 419   | \n",
       "| 1     | 145   | 32.00 | F     | NA    | 100   | 104   | 111   | 119   | 133   | ⋯     | 487   | 484   | 473   | 472   | 473   | 473   | 475   | 471   | 473   | 471   | \n",
       "\n",
       "\n"
      ],
      "text/plain": [
       "  Group File.No. Age   Gender Genetic 1   2   3   4   5   ⋯ 127 128 129 130 131\n",
       "1 1     247       9.75 F      NA      115 122 131 140 153 ⋯ 453 451 444 436 437\n",
       "2 1     248      46.00 M      NA      145 146 150 158 170 ⋯ 482 479 472 468 469\n",
       "3 1     117       9.50 M      NA      110 116 123 130 144 ⋯ 518 514 505 504 504\n",
       "4 1     118       4.50 F      NA       69  76  85  96 112 ⋯ 505 501 491 483 485\n",
       "5 1      10      16.50 M      NA      123 125 129 135 149 ⋯ 436 430 420 419 421\n",
       "6 1     145      32.00 F      NA      100 104 111 119 133 ⋯ 487 484 473 472 473\n",
       "  132 133 134 135 136\n",
       "1 437 447 439 440 438\n",
       "2 468 472 465 467 465\n",
       "3 504 506 503 504 504\n",
       "4 484 493 485 486 484\n",
       "5 420 423 420 421 419\n",
       "6 473 475 471 473 471"
      ]
     },
     "metadata": {},
     "output_type": "display_data"
    }
   ],
   "source": [
    "head(full_db)"
   ]
  },
  {
   "cell_type": "markdown",
   "metadata": {},
   "source": [
    "### Create Group Matrices\n",
    "\n",
    "We will now create matrices of size KxMxN where K is the number of landmarks (68), M is the number of dimensions (2) and N is the number of samples."
   ]
  },
  {
   "cell_type": "code",
   "execution_count": 12,
   "metadata": {},
   "outputs": [],
   "source": [
    "# create a function to create matrices\n",
    "make_matrix <- function(group_chr){\n",
    "    subs_db <- subset(full_db, Group == group_chr)\n",
    "    x_dat <- subs_db[,6:73]\n",
    "    x_dat <- t(x_dat)\n",
    "    y_dat <- subs_db[,74:141]\n",
    "    y_dat <- t(y_dat)\n",
    "    list_xy_dat <- list()\n",
    "\n",
    "    for (i in (1:length(x_dat[1,]))){\n",
    "        z <- length(list_xy_dat) + 1\n",
    "        d <- cbind(x_dat[,i], y_dat[,i])\n",
    "        d <- as.matrix(d)\n",
    "        list_xy_dat[[z]] <- d\n",
    "    }\n",
    "\n",
    "    big_mat <- as.array(list_xy_dat)\n",
    "    big_mat <- simplify2array(big_mat)\n",
    "    return(big_mat)\n",
    "}\n",
    "\n",
    "oi1_mat <- make_matrix('1')\n",
    "oi3_mat <- make_matrix('3')\n",
    "oi4_mat <- make_matrix('4')\n",
    "ctl_mat <- make_matrix('c')\n"
   ]
  },
  {
   "cell_type": "markdown",
   "metadata": {},
   "source": [
    "### Compute Mean Shapes"
   ]
  },
  {
   "cell_type": "code",
   "execution_count": 16,
   "metadata": {},
   "outputs": [
    {
     "name": "stdout",
     "output_type": "stream",
     "text": [
      "[1] \"To speed up use option distances=FALSE\"\n",
      "[1] \"To speed up use option pcaoutput=FALSE\"\n"
     ]
    }
   ],
   "source": [
    "oi1_gpa <- procGPA(oi1_mat, eigen2d=TRUE)\n",
    "oi3_gpa <- procGPA(oi3_mat, eigen2d=TRUE)\n",
    "oi4_gpa <- procGPA(oi4_mat, eigen2d=TRUE)\n",
    "ctl_gpa <- procGPA(ctl_mat, eigen2d=TRUE)\n",
    "list_grp_mat <- list(oi1_mat, oi3_mat, oi4_mat)"
   ]
  },
  {
   "cell_type": "code",
   "execution_count": 39,
   "metadata": {},
   "outputs": [
    {
     "name": "stdout",
     "output_type": "stream",
     "text": [
      " num [1:68, 1:2, 1:133] -0.0897 -0.0495 -0.0099 0.0308 0.072 ...\n"
     ]
    }
   ],
   "source": [
    "str(ctl_gpa$rotated)"
   ]
  },
  {
   "cell_type": "code",
   "execution_count": 46,
   "metadata": {},
   "outputs": [
    {
     "ename": "ERROR",
     "evalue": "Error in write.table(ml_db, oi_ml_db.csv, col.names = NA, sep = \",\", dec = \".\", : object 'oi_ml_db.csv' not found\n",
     "output_type": "error",
     "traceback": [
      "Error in write.table(ml_db, oi_ml_db.csv, col.names = NA, sep = \",\", dec = \".\", : object 'oi_ml_db.csv' not found\nTraceback:\n",
      "1. write.csv(ml_db, oi_ml_db.csv)",
      "2. eval.parent(Call)",
      "3. eval(expr, p)",
      "4. eval(expr, p)",
      "5. write.table(ml_db, oi_ml_db.csv, col.names = NA, sep = \",\", dec = \".\", \n .     qmethod = \"double\")"
     ]
    }
   ],
   "source": [
    "oi1_rmat <- matrix(oi1_gpa$rotated, 136, 88)\n",
    "oi1_rmat <- t(oi1_rmat)\n",
    "oi3_rmat <- matrix(oi3_gpa$rotated, 136, 28)\n",
    "oi3_rmat <- t(oi3_rmat)\n",
    "oi4_rmat <- matrix(oi4_gpa$rotated, 136, 57)\n",
    "oi4_rmat <- t(oi4_rmat)\n",
    "ctl_rmat <- matrix(ctl_gpa$rotated, 136, 133)\n",
    "ctl_rmat <- t(ctl_rmat)\n",
    "full_rmat <- rbind(oi1_rmat, oi3_rmat, oi4_rmat, ctl_rmat)\n",
    "ml_db <- cbind(raw_data, full_rmat)\n",
    "write.csv(ml_db, oi_ml_db.csv)"
   ]
  },
  {
   "cell_type": "markdown",
   "metadata": {},
   "source": [
    "### Compute Mean Euclidean Distance from Baseline Shape for each Group"
   ]
  },
  {
   "cell_type": "code",
   "execution_count": 54,
   "metadata": {},
   "outputs": [
    {
     "name": "stderr",
     "output_type": "stream",
     "text": [
      "No id variables; using all as measure variables\n",
      "No id variables; using all as measure variables\n",
      "No id variables; using all as measure variables\n"
     ]
    },
    {
     "name": "stdout",
     "output_type": "stream",
     "text": [
      "'data.frame':\t11764 obs. of  2 variables:\n",
      " $ variable: Factor w/ 3 levels \"oi1_ed\",\"oi3_ed\",..: 1 1 1 1 1 1 1 1 1 1 ...\n",
      " $ value   : num  0.0048 0.00845 0.00958 0.01012 0.01039 ...\n"
     ]
    },
    {
     "data": {
      "text/html": [
       "<table>\n",
       "<thead><tr><th scope=col>variable</th><th scope=col>value</th></tr></thead>\n",
       "<tbody>\n",
       "\t<tr><td>oi1_ed     </td><td>0.004801372</td></tr>\n",
       "\t<tr><td>oi1_ed     </td><td>0.008445830</td></tr>\n",
       "\t<tr><td>oi1_ed     </td><td>0.009577129</td></tr>\n",
       "\t<tr><td>oi1_ed     </td><td>0.010120732</td></tr>\n",
       "\t<tr><td>oi1_ed     </td><td>0.010388364</td></tr>\n",
       "\t<tr><td>oi1_ed     </td><td>0.008815138</td></tr>\n",
       "</tbody>\n",
       "</table>\n"
      ],
      "text/latex": [
       "\\begin{tabular}{r|ll}\n",
       " variable & value\\\\\n",
       "\\hline\n",
       "\t oi1\\_ed    & 0.004801372\\\\\n",
       "\t oi1\\_ed    & 0.008445830\\\\\n",
       "\t oi1\\_ed    & 0.009577129\\\\\n",
       "\t oi1\\_ed    & 0.010120732\\\\\n",
       "\t oi1\\_ed    & 0.010388364\\\\\n",
       "\t oi1\\_ed    & 0.008815138\\\\\n",
       "\\end{tabular}\n"
      ],
      "text/markdown": [
       "\n",
       "variable | value | \n",
       "|---|---|---|---|---|---|\n",
       "| oi1_ed      | 0.004801372 | \n",
       "| oi1_ed      | 0.008445830 | \n",
       "| oi1_ed      | 0.009577129 | \n",
       "| oi1_ed      | 0.010120732 | \n",
       "| oi1_ed      | 0.010388364 | \n",
       "| oi1_ed      | 0.008815138 | \n",
       "\n",
       "\n"
      ],
      "text/plain": [
       "  variable value      \n",
       "1 oi1_ed   0.004801372\n",
       "2 oi1_ed   0.008445830\n",
       "3 oi1_ed   0.009577129\n",
       "4 oi1_ed   0.010120732\n",
       "5 oi1_ed   0.010388364\n",
       "6 oi1_ed   0.008815138"
      ]
     },
     "metadata": {},
     "output_type": "display_data"
    }
   ],
   "source": [
    "# computes landmark distance from a predetermined baseline\n",
    "compute_med <- function(input_mat){\n",
    "    # we set our baseline shape to the mean shape of our control group\n",
    "    base_shape <- ctl_gpa$mshape\n",
    "    base_shape <- as.matrix(base_shape)\n",
    "    len <- (1:(length(input_mat[1,,])/2))\n",
    "    ed_vec <- c()\n",
    "    \n",
    "    # iterate through the matrices in the input\n",
    "    for (i in len){\n",
    "        mat <- as.matrix(input_mat[,,i])\n",
    "        \n",
    "        # let's gather our variables\n",
    "        X1 <- mat[,1]\n",
    "        X2 <- base_shape[,1]\n",
    "        Y1 <- mat[,2]\n",
    "        Y2 <- base_shape[,2]\n",
    "\n",
    "        # simple euclidean arithmetic\n",
    "        ed <-  sqrt((X2 - X1)**2 + (Y2-Y1)**2)\n",
    "        ed_vec <- c(ed_vec, ed)\n",
    "    }\n",
    "    return(ed_vec)\n",
    "}\n",
    "\n",
    "# list of mean landmark distance per group\n",
    "oi1_ed <- compute_med(oi1_gpa$rotated)\n",
    "oi3_ed <- compute_med(oi3_gpa$rotated)\n",
    "oi4_ed <- compute_med(oi4_gpa$rotated)\n",
    "\n",
    "oi1_ed <- melt(data.frame(oi1_ed))\n",
    "oi3_ed <- melt(data.frame(oi3_ed))\n",
    "oi4_ed <- melt(data.frame(oi4_ed))\n",
    "ed_df <- rbind(oi1_ed, oi3_ed, oi4_ed)\n",
    "\n",
    "str(ed_df)\n",
    "head(ed_df)"
   ]
  },
  {
   "cell_type": "code",
   "execution_count": 122,
   "metadata": {},
   "outputs": [
    {
     "data": {
      "text/html": [
       "<strong>png:</strong> 2"
      ],
      "text/latex": [
       "\\textbf{png:} 2"
      ],
      "text/markdown": [
       "**png:** 2"
      ],
      "text/plain": [
       "png \n",
       "  2 "
      ]
     },
     "metadata": {},
     "output_type": "display_data"
    }
   ],
   "source": [
    "# lets visualize the euclidean distance per landmark group means\n",
    "\n",
    "oi1_med <- compute_med(oi1_gpa$rotated)\n",
    "oi3_med <- compute_med(oi3_gpa$rotated)\n",
    "oi4_med <- compute_med(oi4_gpa$rotated)\n",
    "\n",
    "oi1_med <- matrix(oi1_med, nrow=68)\n",
    "oi3_med <- matrix(oi3_med, nrow=68)\n",
    "oi4_med <- matrix(oi4_med, nrow=68)\n",
    "\n",
    "oi1_med <- rowMeans(oi1_med)\n",
    "oi3_med <- rowMeans(oi3_med)\n",
    "oi4_med <- rowMeans(oi4_med)\n",
    "\n",
    "med_df <- data.frame(oi1_med, oi3_med, oi4_med)\n",
    "med_coln <- c('Type 1', 'Type 3', 'Type 4')\n",
    "colnames(med_df) <- med_coln\n",
    "\n",
    "png(filename=\"histo.png\", res=720, width=16, height=9, units=\"in\", pointsize=6)\n",
    "\n",
    "barplot(\n",
    "  as.matrix(t(med_df)),\n",
    "  main='Mean Euclidean Distance of Each Landmark',\n",
    "  names.arg=c(1:68),\n",
    "  ylab='Distance',\n",
    "  xlab='Landmark',\n",
    "  beside=TRUE,\n",
    "  col=colours,\n",
    "  legend=colnames(med_df)\n",
    ")\n",
    "dev.off()"
   ]
  },
  {
   "cell_type": "markdown",
   "metadata": {},
   "source": [
    "#### Compute Z-score MED"
   ]
  },
  {
   "cell_type": "code",
   "execution_count": 55,
   "metadata": {},
   "outputs": [
    {
     "data": {
      "text/html": [
       "<table>\n",
       "<thead><tr><th scope=col>variable</th><th scope=col>value</th><th scope=col>zscore</th></tr></thead>\n",
       "<tbody>\n",
       "\t<tr><td>oi1_ed     </td><td>0.004801372</td><td>-0.61760866</td></tr>\n",
       "\t<tr><td>oi1_ed     </td><td>0.008445830</td><td> 0.04159964</td></tr>\n",
       "\t<tr><td>oi1_ed     </td><td>0.009577129</td><td> 0.24622864</td></tr>\n",
       "\t<tr><td>oi1_ed     </td><td>0.010120732</td><td> 0.34455546</td></tr>\n",
       "\t<tr><td>oi1_ed     </td><td>0.010388364</td><td> 0.39296458</td></tr>\n",
       "\t<tr><td>oi1_ed     </td><td>0.008815138</td><td> 0.10840003</td></tr>\n",
       "</tbody>\n",
       "</table>\n"
      ],
      "text/latex": [
       "\\begin{tabular}{r|lll}\n",
       " variable & value & zscore\\\\\n",
       "\\hline\n",
       "\t oi1\\_ed    & 0.004801372 & -0.61760866\\\\\n",
       "\t oi1\\_ed    & 0.008445830 &  0.04159964\\\\\n",
       "\t oi1\\_ed    & 0.009577129 &  0.24622864\\\\\n",
       "\t oi1\\_ed    & 0.010120732 &  0.34455546\\\\\n",
       "\t oi1\\_ed    & 0.010388364 &  0.39296458\\\\\n",
       "\t oi1\\_ed    & 0.008815138 &  0.10840003\\\\\n",
       "\\end{tabular}\n"
      ],
      "text/markdown": [
       "\n",
       "variable | value | zscore | \n",
       "|---|---|---|---|---|---|\n",
       "| oi1_ed      | 0.004801372 | -0.61760866 | \n",
       "| oi1_ed      | 0.008445830 |  0.04159964 | \n",
       "| oi1_ed      | 0.009577129 |  0.24622864 | \n",
       "| oi1_ed      | 0.010120732 |  0.34455546 | \n",
       "| oi1_ed      | 0.010388364 |  0.39296458 | \n",
       "| oi1_ed      | 0.008815138 |  0.10840003 | \n",
       "\n",
       "\n"
      ],
      "text/plain": [
       "  variable value       zscore     \n",
       "1 oi1_ed   0.004801372 -0.61760866\n",
       "2 oi1_ed   0.008445830  0.04159964\n",
       "3 oi1_ed   0.009577129  0.24622864\n",
       "4 oi1_ed   0.010120732  0.34455546\n",
       "5 oi1_ed   0.010388364  0.39296458\n",
       "6 oi1_ed   0.008815138  0.10840003"
      ]
     },
     "metadata": {},
     "output_type": "display_data"
    }
   ],
   "source": [
    "zscore <- (ed_df$value - mean(ed_df$value))/sd(ed_df$value)\n",
    "ed_df <- cbind(ed_df, zscore)\n",
    "head(ed_df)"
   ]
  },
  {
   "cell_type": "markdown",
   "metadata": {},
   "source": [
    "### Compute the Facial Ratios and LFH"
   ]
  },
  {
   "cell_type": "code",
   "execution_count": 15,
   "metadata": {},
   "outputs": [
    {
     "name": "stderr",
     "output_type": "stream",
     "text": [
      "No id variables; using all as measure variables\n",
      "No id variables; using all as measure variables\n",
      "No id variables; using all as measure variables\n",
      "No id variables; using all as measure variables\n"
     ]
    },
    {
     "data": {
      "text/html": [
       "<table>\n",
       "<thead><tr><th scope=col>variable</th><th scope=col>value</th></tr></thead>\n",
       "<tbody>\n",
       "\t<tr><td>ctl_ratio1</td><td>0.6246633 </td></tr>\n",
       "\t<tr><td>ctl_ratio1</td><td>0.6061659 </td></tr>\n",
       "\t<tr><td>ctl_ratio1</td><td>0.5993436 </td></tr>\n",
       "\t<tr><td>ctl_ratio1</td><td>0.6172652 </td></tr>\n",
       "\t<tr><td>ctl_ratio1</td><td>0.6026082 </td></tr>\n",
       "\t<tr><td>ctl_ratio1</td><td>0.5792949 </td></tr>\n",
       "</tbody>\n",
       "</table>\n"
      ],
      "text/latex": [
       "\\begin{tabular}{r|ll}\n",
       " variable & value\\\\\n",
       "\\hline\n",
       "\t ctl\\_ratio1 & 0.6246633   \\\\\n",
       "\t ctl\\_ratio1 & 0.6061659   \\\\\n",
       "\t ctl\\_ratio1 & 0.5993436   \\\\\n",
       "\t ctl\\_ratio1 & 0.6172652   \\\\\n",
       "\t ctl\\_ratio1 & 0.6026082   \\\\\n",
       "\t ctl\\_ratio1 & 0.5792949   \\\\\n",
       "\\end{tabular}\n"
      ],
      "text/markdown": [
       "\n",
       "variable | value | \n",
       "|---|---|---|---|---|---|\n",
       "| ctl_ratio1 | 0.6246633  | \n",
       "| ctl_ratio1 | 0.6061659  | \n",
       "| ctl_ratio1 | 0.5993436  | \n",
       "| ctl_ratio1 | 0.6172652  | \n",
       "| ctl_ratio1 | 0.6026082  | \n",
       "| ctl_ratio1 | 0.5792949  | \n",
       "\n",
       "\n"
      ],
      "text/plain": [
       "  variable   value    \n",
       "1 ctl_ratio1 0.6246633\n",
       "2 ctl_ratio1 0.6061659\n",
       "3 ctl_ratio1 0.5993436\n",
       "4 ctl_ratio1 0.6172652\n",
       "5 ctl_ratio1 0.6026082\n",
       "6 ctl_ratio1 0.5792949"
      ]
     },
     "metadata": {},
     "output_type": "display_data"
    },
    {
     "name": "stderr",
     "output_type": "stream",
     "text": [
      "No id variables; using all as measure variables\n",
      "No id variables; using all as measure variables\n",
      "No id variables; using all as measure variables\n",
      "No id variables; using all as measure variables\n"
     ]
    },
    {
     "data": {
      "text/html": [
       "<table>\n",
       "<thead><tr><th scope=col>variable</th><th scope=col>value</th></tr></thead>\n",
       "<tbody>\n",
       "\t<tr><td>ctl_ratio2</td><td>0.8267644 </td></tr>\n",
       "\t<tr><td>ctl_ratio2</td><td>0.7834141 </td></tr>\n",
       "\t<tr><td>ctl_ratio2</td><td>0.7948080 </td></tr>\n",
       "\t<tr><td>ctl_ratio2</td><td>0.8483678 </td></tr>\n",
       "\t<tr><td>ctl_ratio2</td><td>0.7878822 </td></tr>\n",
       "\t<tr><td>ctl_ratio2</td><td>0.7905491 </td></tr>\n",
       "</tbody>\n",
       "</table>\n"
      ],
      "text/latex": [
       "\\begin{tabular}{r|ll}\n",
       " variable & value\\\\\n",
       "\\hline\n",
       "\t ctl\\_ratio2 & 0.8267644   \\\\\n",
       "\t ctl\\_ratio2 & 0.7834141   \\\\\n",
       "\t ctl\\_ratio2 & 0.7948080   \\\\\n",
       "\t ctl\\_ratio2 & 0.8483678   \\\\\n",
       "\t ctl\\_ratio2 & 0.7878822   \\\\\n",
       "\t ctl\\_ratio2 & 0.7905491   \\\\\n",
       "\\end{tabular}\n"
      ],
      "text/markdown": [
       "\n",
       "variable | value | \n",
       "|---|---|---|---|---|---|\n",
       "| ctl_ratio2 | 0.8267644  | \n",
       "| ctl_ratio2 | 0.7834141  | \n",
       "| ctl_ratio2 | 0.7948080  | \n",
       "| ctl_ratio2 | 0.8483678  | \n",
       "| ctl_ratio2 | 0.7878822  | \n",
       "| ctl_ratio2 | 0.7905491  | \n",
       "\n",
       "\n"
      ],
      "text/plain": [
       "  variable   value    \n",
       "1 ctl_ratio2 0.8267644\n",
       "2 ctl_ratio2 0.7834141\n",
       "3 ctl_ratio2 0.7948080\n",
       "4 ctl_ratio2 0.8483678\n",
       "5 ctl_ratio2 0.7878822\n",
       "6 ctl_ratio2 0.7905491"
      ]
     },
     "metadata": {},
     "output_type": "display_data"
    },
    {
     "name": "stderr",
     "output_type": "stream",
     "text": [
      "No id variables; using all as measure variables\n",
      "No id variables; using all as measure variables\n",
      "No id variables; using all as measure variables\n",
      "No id variables; using all as measure variables\n"
     ]
    },
    {
     "data": {
      "text/html": [
       "<table>\n",
       "<thead><tr><th scope=col>variable</th><th scope=col>value</th></tr></thead>\n",
       "<tbody>\n",
       "\t<tr><td>ctl_ratio3</td><td>1.217263  </td></tr>\n",
       "\t<tr><td>ctl_ratio3</td><td>1.335484  </td></tr>\n",
       "\t<tr><td>ctl_ratio3</td><td>1.274087  </td></tr>\n",
       "\t<tr><td>ctl_ratio3</td><td>1.174030  </td></tr>\n",
       "\t<tr><td>ctl_ratio3</td><td>1.407767  </td></tr>\n",
       "\t<tr><td>ctl_ratio3</td><td>1.371741  </td></tr>\n",
       "</tbody>\n",
       "</table>\n"
      ],
      "text/latex": [
       "\\begin{tabular}{r|ll}\n",
       " variable & value\\\\\n",
       "\\hline\n",
       "\t ctl\\_ratio3 & 1.217263    \\\\\n",
       "\t ctl\\_ratio3 & 1.335484    \\\\\n",
       "\t ctl\\_ratio3 & 1.274087    \\\\\n",
       "\t ctl\\_ratio3 & 1.174030    \\\\\n",
       "\t ctl\\_ratio3 & 1.407767    \\\\\n",
       "\t ctl\\_ratio3 & 1.371741    \\\\\n",
       "\\end{tabular}\n"
      ],
      "text/markdown": [
       "\n",
       "variable | value | \n",
       "|---|---|---|---|---|---|\n",
       "| ctl_ratio3 | 1.217263   | \n",
       "| ctl_ratio3 | 1.335484   | \n",
       "| ctl_ratio3 | 1.274087   | \n",
       "| ctl_ratio3 | 1.174030   | \n",
       "| ctl_ratio3 | 1.407767   | \n",
       "| ctl_ratio3 | 1.371741   | \n",
       "\n",
       "\n"
      ],
      "text/plain": [
       "  variable   value   \n",
       "1 ctl_ratio3 1.217263\n",
       "2 ctl_ratio3 1.335484\n",
       "3 ctl_ratio3 1.274087\n",
       "4 ctl_ratio3 1.174030\n",
       "5 ctl_ratio3 1.407767\n",
       "6 ctl_ratio3 1.371741"
      ]
     },
     "metadata": {},
     "output_type": "display_data"
    },
    {
     "name": "stderr",
     "output_type": "stream",
     "text": [
      "No id variables; using all as measure variables\n",
      "No id variables; using all as measure variables\n",
      "No id variables; using all as measure variables\n",
      "No id variables; using all as measure variables\n"
     ]
    },
    {
     "data": {
      "text/html": [
       "<table>\n",
       "<thead><tr><th scope=col>variable</th><th scope=col>value</th></tr></thead>\n",
       "<tbody>\n",
       "\t<tr><td>ctl_lfh  </td><td>0.5718910</td></tr>\n",
       "\t<tr><td>ctl_lfh  </td><td>0.5378159</td></tr>\n",
       "\t<tr><td>ctl_lfh  </td><td>0.5574577</td></tr>\n",
       "\t<tr><td>ctl_lfh  </td><td>0.5872246</td></tr>\n",
       "\t<tr><td>ctl_lfh  </td><td>0.5734729</td></tr>\n",
       "\t<tr><td>ctl_lfh  </td><td>0.5595804</td></tr>\n",
       "</tbody>\n",
       "</table>\n"
      ],
      "text/latex": [
       "\\begin{tabular}{r|ll}\n",
       " variable & value\\\\\n",
       "\\hline\n",
       "\t ctl\\_lfh & 0.5718910\\\\\n",
       "\t ctl\\_lfh & 0.5378159\\\\\n",
       "\t ctl\\_lfh & 0.5574577\\\\\n",
       "\t ctl\\_lfh & 0.5872246\\\\\n",
       "\t ctl\\_lfh & 0.5734729\\\\\n",
       "\t ctl\\_lfh & 0.5595804\\\\\n",
       "\\end{tabular}\n"
      ],
      "text/markdown": [
       "\n",
       "variable | value | \n",
       "|---|---|---|---|---|---|\n",
       "| ctl_lfh   | 0.5718910 | \n",
       "| ctl_lfh   | 0.5378159 | \n",
       "| ctl_lfh   | 0.5574577 | \n",
       "| ctl_lfh   | 0.5872246 | \n",
       "| ctl_lfh   | 0.5734729 | \n",
       "| ctl_lfh   | 0.5595804 | \n",
       "\n",
       "\n"
      ],
      "text/plain": [
       "  variable value    \n",
       "1 ctl_lfh  0.5718910\n",
       "2 ctl_lfh  0.5378159\n",
       "3 ctl_lfh  0.5574577\n",
       "4 ctl_lfh  0.5872246\n",
       "5 ctl_lfh  0.5734729\n",
       "6 ctl_lfh  0.5595804"
      ]
     },
     "metadata": {},
     "output_type": "display_data"
    }
   ],
   "source": [
    "compute_ratio <- function(inpt_mat, pt1, pt2, pt3, pt4){\n",
    "    \n",
    "    \n",
    "    # first we gather our coordinates\n",
    "    X1 <- inpt_mat[pt1,1,]\n",
    "    X2 <- inpt_mat[pt2,1,]\n",
    "    X3 <- inpt_mat[pt3,1,]\n",
    "    X4 <- inpt_mat[pt4,1,]\n",
    "    \n",
    "    Y1 <- inpt_mat[pt1,2,]\n",
    "    Y2 <- inpt_mat[pt2,2,]\n",
    "    Y3 <- inpt_mat[pt3,2,]\n",
    "    Y4 <- inpt_mat[pt4,2,]\n",
    "    \n",
    "    # we compute the ratio\n",
    "    ed12 <- sqrt((X2 - X1)**2 + (Y2-Y1)**2)\n",
    "    ed34 <- sqrt((X3 - X4)**2 + (Y3-Y4)**2)\n",
    "    ratio_vec <- ed12 / ed34\n",
    "    \n",
    "    return(ratio_vec)\n",
    "}\n",
    "\n",
    "\n",
    "\n",
    "# ratio 1: (biocular 37:46 / bitemporal 1:17)\n",
    "oi1_ratio1 <- compute_ratio(oi1_mat, 37, 46, 1, 17)\n",
    "oi3_ratio1 <- compute_ratio(oi3_mat, 37, 46, 1, 17)\n",
    "oi4_ratio1 <- compute_ratio(oi4_mat, 37, 46, 1, 17)\n",
    "ctl_ratio1 <- compute_ratio(ctl_mat, 37, 46, 1, 17)\n",
    "\n",
    "oi1_ratio1 <- melt(data.frame(oi1_ratio1))\n",
    "oi3_ratio1 <- melt(data.frame(oi3_ratio1))\n",
    "oi4_ratio1 <- melt(data.frame(oi4_ratio1))\n",
    "ctl_ratio1 <- melt(data.frame(ctl_ratio1))\n",
    "ratio1_df <- rbind(ctl_ratio1, oi1_ratio1, oi3_ratio1, oi4_ratio1)\n",
    "head(ratio1_df)\n",
    "\n",
    "# ratio 2: (bimandibular 5:13 / bitemporal 1:17)\n",
    "oi1_ratio2 <- compute_ratio(oi1_mat, 5, 13, 1, 17)\n",
    "oi3_ratio2 <- compute_ratio(oi3_mat, 5, 13, 1, 17)\n",
    "oi4_ratio2 <- compute_ratio(oi4_mat, 5, 13, 1, 17)\n",
    "ctl_ratio2 <- compute_ratio(ctl_mat, 5, 13, 1, 17)\n",
    "\n",
    "oi1_ratio2 <- melt(data.frame(oi1_ratio2))\n",
    "oi3_ratio2 <- melt(data.frame(oi3_ratio2))\n",
    "oi4_ratio2 <- melt(data.frame(oi4_ratio2))\n",
    "ctl_ratio2 <- melt(data.frame(ctl_ratio2))\n",
    "ratio2_df <- rbind(ctl_ratio2, oi1_ratio2, oi3_ratio2, oi4_ratio2)\n",
    "head(ratio2_df)\n",
    "\n",
    "# ratio 3: (bitemporal 1:17 / face height 28:9)\n",
    "oi1_ratio3 <- compute_ratio(oi1_mat, 1, 17, 28, 9)\n",
    "oi3_ratio3 <- compute_ratio(oi3_mat, 1, 17, 28, 9)\n",
    "oi4_ratio3 <- compute_ratio(oi4_mat, 1, 17, 28, 9)\n",
    "ctl_ratio3 <- compute_ratio(ctl_mat, 1, 17, 28, 9)\n",
    "\n",
    "oi1_ratio3 <- melt(data.frame(oi1_ratio3))\n",
    "oi3_ratio3 <- melt(data.frame(oi3_ratio3))\n",
    "oi4_ratio3 <- melt(data.frame(oi4_ratio3))\n",
    "ctl_ratio3 <- melt(data.frame(ctl_ratio3))\n",
    "ratio3_df <- rbind(ctl_ratio3, oi1_ratio3, oi3_ratio3, oi4_ratio3)\n",
    "head(ratio3_df)\n",
    "\n",
    "# lfh: (lower face 34-9 / face height 28:9)\n",
    "oi1_lfh <- compute_ratio(oi1_mat, 34, 9, 28, 9)\n",
    "oi3_lfh <- compute_ratio(oi3_mat, 34, 9, 28, 9)\n",
    "oi4_lfh <- compute_ratio(oi4_mat, 34, 9, 28, 9)\n",
    "ctl_lfh <- compute_ratio(ctl_mat, 34, 9, 28, 9)\n",
    "\n",
    "oi1_lfh <- melt(data.frame(oi1_lfh))\n",
    "oi3_lfh <- melt(data.frame(oi3_lfh))\n",
    "oi4_lfh <- melt(data.frame(oi4_lfh))\n",
    "ctl_lfh <- melt(data.frame(ctl_lfh))\n",
    "lfh_df <- rbind(ctl_lfh, oi1_lfh, oi3_lfh, oi4_lfh)\n",
    "head(lfh_df)"
   ]
  },
  {
   "cell_type": "markdown",
   "metadata": {},
   "source": [
    "##### Compute z-scores for facial ratios and lfh"
   ]
  },
  {
   "cell_type": "code",
   "execution_count": 57,
   "metadata": {},
   "outputs": [
    {
     "data": {
      "text/html": [
       "<table>\n",
       "<thead><tr><th scope=col>variable</th><th scope=col>value</th><th scope=col>zscore</th></tr></thead>\n",
       "<tbody>\n",
       "\t<tr><td>ctl_ratio1 </td><td>0.6246633  </td><td> 0.69707397</td></tr>\n",
       "\t<tr><td>ctl_ratio1 </td><td>0.6061659  </td><td> 0.05065980</td></tr>\n",
       "\t<tr><td>ctl_ratio1 </td><td>0.5993436  </td><td>-0.18775559</td></tr>\n",
       "\t<tr><td>ctl_ratio1 </td><td>0.6172652  </td><td> 0.43853844</td></tr>\n",
       "\t<tr><td>ctl_ratio1 </td><td>0.6026082  </td><td>-0.07366979</td></tr>\n",
       "\t<tr><td>ctl_ratio1 </td><td>0.5792949  </td><td>-0.88838254</td></tr>\n",
       "</tbody>\n",
       "</table>\n"
      ],
      "text/latex": [
       "\\begin{tabular}{r|lll}\n",
       " variable & value & zscore\\\\\n",
       "\\hline\n",
       "\t ctl\\_ratio1 & 0.6246633    &  0.69707397 \\\\\n",
       "\t ctl\\_ratio1 & 0.6061659    &  0.05065980 \\\\\n",
       "\t ctl\\_ratio1 & 0.5993436    & -0.18775559 \\\\\n",
       "\t ctl\\_ratio1 & 0.6172652    &  0.43853844 \\\\\n",
       "\t ctl\\_ratio1 & 0.6026082    & -0.07366979 \\\\\n",
       "\t ctl\\_ratio1 & 0.5792949    & -0.88838254 \\\\\n",
       "\\end{tabular}\n"
      ],
      "text/markdown": [
       "\n",
       "variable | value | zscore | \n",
       "|---|---|---|---|---|---|\n",
       "| ctl_ratio1  | 0.6246633   |  0.69707397 | \n",
       "| ctl_ratio1  | 0.6061659   |  0.05065980 | \n",
       "| ctl_ratio1  | 0.5993436   | -0.18775559 | \n",
       "| ctl_ratio1  | 0.6172652   |  0.43853844 | \n",
       "| ctl_ratio1  | 0.6026082   | -0.07366979 | \n",
       "| ctl_ratio1  | 0.5792949   | -0.88838254 | \n",
       "\n",
       "\n"
      ],
      "text/plain": [
       "  variable   value     zscore     \n",
       "1 ctl_ratio1 0.6246633  0.69707397\n",
       "2 ctl_ratio1 0.6061659  0.05065980\n",
       "3 ctl_ratio1 0.5993436 -0.18775559\n",
       "4 ctl_ratio1 0.6172652  0.43853844\n",
       "5 ctl_ratio1 0.6026082 -0.07366979\n",
       "6 ctl_ratio1 0.5792949 -0.88838254"
      ]
     },
     "metadata": {},
     "output_type": "display_data"
    },
    {
     "data": {
      "text/html": [
       "<table>\n",
       "<thead><tr><th scope=col>variable</th><th scope=col>value</th><th scope=col>zscore</th></tr></thead>\n",
       "<tbody>\n",
       "\t<tr><td>ctl_ratio2 </td><td>0.8267644  </td><td> 1.10093363</td></tr>\n",
       "\t<tr><td>ctl_ratio2 </td><td>0.7834141  </td><td>-0.23282326</td></tr>\n",
       "\t<tr><td>ctl_ratio2 </td><td>0.7948080  </td><td> 0.11773161</td></tr>\n",
       "\t<tr><td>ctl_ratio2 </td><td>0.8483678  </td><td> 1.76560412</td></tr>\n",
       "\t<tr><td>ctl_ratio2 </td><td>0.7878822  </td><td>-0.09535257</td></tr>\n",
       "\t<tr><td>ctl_ratio2 </td><td>0.7905491  </td><td>-0.01330282</td></tr>\n",
       "</tbody>\n",
       "</table>\n"
      ],
      "text/latex": [
       "\\begin{tabular}{r|lll}\n",
       " variable & value & zscore\\\\\n",
       "\\hline\n",
       "\t ctl\\_ratio2 & 0.8267644    &  1.10093363 \\\\\n",
       "\t ctl\\_ratio2 & 0.7834141    & -0.23282326 \\\\\n",
       "\t ctl\\_ratio2 & 0.7948080    &  0.11773161 \\\\\n",
       "\t ctl\\_ratio2 & 0.8483678    &  1.76560412 \\\\\n",
       "\t ctl\\_ratio2 & 0.7878822    & -0.09535257 \\\\\n",
       "\t ctl\\_ratio2 & 0.7905491    & -0.01330282 \\\\\n",
       "\\end{tabular}\n"
      ],
      "text/markdown": [
       "\n",
       "variable | value | zscore | \n",
       "|---|---|---|---|---|---|\n",
       "| ctl_ratio2  | 0.8267644   |  1.10093363 | \n",
       "| ctl_ratio2  | 0.7834141   | -0.23282326 | \n",
       "| ctl_ratio2  | 0.7948080   |  0.11773161 | \n",
       "| ctl_ratio2  | 0.8483678   |  1.76560412 | \n",
       "| ctl_ratio2  | 0.7878822   | -0.09535257 | \n",
       "| ctl_ratio2  | 0.7905491   | -0.01330282 | \n",
       "\n",
       "\n"
      ],
      "text/plain": [
       "  variable   value     zscore     \n",
       "1 ctl_ratio2 0.8267644  1.10093363\n",
       "2 ctl_ratio2 0.7834141 -0.23282326\n",
       "3 ctl_ratio2 0.7948080  0.11773161\n",
       "4 ctl_ratio2 0.8483678  1.76560412\n",
       "5 ctl_ratio2 0.7878822 -0.09535257\n",
       "6 ctl_ratio2 0.7905491 -0.01330282"
      ]
     },
     "metadata": {},
     "output_type": "display_data"
    },
    {
     "data": {
      "text/html": [
       "<table>\n",
       "<thead><tr><th scope=col>variable</th><th scope=col>value</th><th scope=col>zscore</th></tr></thead>\n",
       "<tbody>\n",
       "\t<tr><td>ctl_ratio3</td><td>1.217263  </td><td>-0.8637688</td></tr>\n",
       "\t<tr><td>ctl_ratio3</td><td>1.335484  </td><td> 0.2694227</td></tr>\n",
       "\t<tr><td>ctl_ratio3</td><td>1.274087  </td><td>-0.3190867</td></tr>\n",
       "\t<tr><td>ctl_ratio3</td><td>1.174030  </td><td>-1.2781698</td></tr>\n",
       "\t<tr><td>ctl_ratio3</td><td>1.407767  </td><td> 0.9622831</td></tr>\n",
       "\t<tr><td>ctl_ratio3</td><td>1.371741  </td><td> 0.6169639</td></tr>\n",
       "</tbody>\n",
       "</table>\n"
      ],
      "text/latex": [
       "\\begin{tabular}{r|lll}\n",
       " variable & value & zscore\\\\\n",
       "\\hline\n",
       "\t ctl\\_ratio3 & 1.217263     & -0.8637688  \\\\\n",
       "\t ctl\\_ratio3 & 1.335484     &  0.2694227  \\\\\n",
       "\t ctl\\_ratio3 & 1.274087     & -0.3190867  \\\\\n",
       "\t ctl\\_ratio3 & 1.174030     & -1.2781698  \\\\\n",
       "\t ctl\\_ratio3 & 1.407767     &  0.9622831  \\\\\n",
       "\t ctl\\_ratio3 & 1.371741     &  0.6169639  \\\\\n",
       "\\end{tabular}\n"
      ],
      "text/markdown": [
       "\n",
       "variable | value | zscore | \n",
       "|---|---|---|---|---|---|\n",
       "| ctl_ratio3 | 1.217263   | -0.8637688 | \n",
       "| ctl_ratio3 | 1.335484   |  0.2694227 | \n",
       "| ctl_ratio3 | 1.274087   | -0.3190867 | \n",
       "| ctl_ratio3 | 1.174030   | -1.2781698 | \n",
       "| ctl_ratio3 | 1.407767   |  0.9622831 | \n",
       "| ctl_ratio3 | 1.371741   |  0.6169639 | \n",
       "\n",
       "\n"
      ],
      "text/plain": [
       "  variable   value    zscore    \n",
       "1 ctl_ratio3 1.217263 -0.8637688\n",
       "2 ctl_ratio3 1.335484  0.2694227\n",
       "3 ctl_ratio3 1.274087 -0.3190867\n",
       "4 ctl_ratio3 1.174030 -1.2781698\n",
       "5 ctl_ratio3 1.407767  0.9622831\n",
       "6 ctl_ratio3 1.371741  0.6169639"
      ]
     },
     "metadata": {},
     "output_type": "display_data"
    },
    {
     "data": {
      "text/html": [
       "<table>\n",
       "<thead><tr><th scope=col>variable</th><th scope=col>value</th><th scope=col>zscore</th></tr></thead>\n",
       "<tbody>\n",
       "\t<tr><td>ctl_lfh   </td><td>0.5718910 </td><td> 0.1340174</td></tr>\n",
       "\t<tr><td>ctl_lfh   </td><td>0.5378159 </td><td>-1.2193521</td></tr>\n",
       "\t<tr><td>ctl_lfh   </td><td>0.5574577 </td><td>-0.4392337</td></tr>\n",
       "\t<tr><td>ctl_lfh   </td><td>0.5872246 </td><td> 0.7430252</td></tr>\n",
       "\t<tr><td>ctl_lfh   </td><td>0.5734729 </td><td> 0.1968450</td></tr>\n",
       "\t<tr><td>ctl_lfh   </td><td>0.5595804 </td><td>-0.3549243</td></tr>\n",
       "</tbody>\n",
       "</table>\n"
      ],
      "text/latex": [
       "\\begin{tabular}{r|lll}\n",
       " variable & value & zscore\\\\\n",
       "\\hline\n",
       "\t ctl\\_lfh  & 0.5718910  &  0.1340174\\\\\n",
       "\t ctl\\_lfh  & 0.5378159  & -1.2193521\\\\\n",
       "\t ctl\\_lfh  & 0.5574577  & -0.4392337\\\\\n",
       "\t ctl\\_lfh  & 0.5872246  &  0.7430252\\\\\n",
       "\t ctl\\_lfh  & 0.5734729  &  0.1968450\\\\\n",
       "\t ctl\\_lfh  & 0.5595804  & -0.3549243\\\\\n",
       "\\end{tabular}\n"
      ],
      "text/markdown": [
       "\n",
       "variable | value | zscore | \n",
       "|---|---|---|---|---|---|\n",
       "| ctl_lfh    | 0.5718910  |  0.1340174 | \n",
       "| ctl_lfh    | 0.5378159  | -1.2193521 | \n",
       "| ctl_lfh    | 0.5574577  | -0.4392337 | \n",
       "| ctl_lfh    | 0.5872246  |  0.7430252 | \n",
       "| ctl_lfh    | 0.5734729  |  0.1968450 | \n",
       "| ctl_lfh    | 0.5595804  | -0.3549243 | \n",
       "\n",
       "\n"
      ],
      "text/plain": [
       "  variable value     zscore    \n",
       "1 ctl_lfh  0.5718910  0.1340174\n",
       "2 ctl_lfh  0.5378159 -1.2193521\n",
       "3 ctl_lfh  0.5574577 -0.4392337\n",
       "4 ctl_lfh  0.5872246  0.7430252\n",
       "5 ctl_lfh  0.5734729  0.1968450\n",
       "6 ctl_lfh  0.5595804 -0.3549243"
      ]
     },
     "metadata": {},
     "output_type": "display_data"
    }
   ],
   "source": [
    "# z-score ratio 1\n",
    "zscore <- (ratio1_df$value - mean(ratio1_df$value))/sd(ratio1_df$value)\n",
    "ratio1_df <- cbind(ratio1_df, zscore)\n",
    "head(ratio1_df)\n",
    "\n",
    "# z-score ratio 2\n",
    "zscore <- (ratio2_df$value - mean(ratio2_df$value))/sd(ratio2_df$value)\n",
    "ratio2_df <- cbind(ratio2_df, zscore)\n",
    "head(ratio2_df)\n",
    "\n",
    "# z-score ratio 3\n",
    "zscore <- (ratio3_df$value - mean(ratio3_df$value))/sd(ratio3_df$value)\n",
    "ratio3_df <- cbind(ratio3_df, zscore)\n",
    "head(ratio3_df)\n",
    "\n",
    "# z-score lfh\n",
    "zscore <- (lfh_df$value - mean(lfh_df$value))/sd(lfh_df$value)\n",
    "lfh_df <- cbind(lfh_df, zscore)\n",
    "head(lfh_df)"
   ]
  },
  {
   "cell_type": "markdown",
   "metadata": {},
   "source": [
    "## Statistical Testing"
   ]
  },
  {
   "cell_type": "markdown",
   "metadata": {},
   "source": [
    "### Test Mean Shapes using Goodall's F test"
   ]
  },
  {
   "cell_type": "code",
   "execution_count": 66,
   "metadata": {},
   "outputs": [
    {
     "name": "stdout",
     "output_type": "stream",
     "text": [
      "[1] \"To speed up use option distances=FALSE\"\n",
      "*Bootstrap - sampling with replacement within each group under H0: No of resamples =  400 \n",
      "*****************************************************************************************************************************************100  **********************************************************************************************************************************200  *******************************************************************************************************************************************300  *******************************************************************************************************************************400  * \n",
      "[1] \"To speed up use option distances=FALSE\"\n",
      "*Bootstrap - sampling with replacement within each group under H0: No of resamples =  400 \n",
      "*********************************************************************************************************************************************************************************************************************************************************************************************************100  ************************************************************************************************************************************************************************************************************************************************************************************************************200  ************************************************************************************************************************************************************************************************************************************************************************************************************300  ************************************************************************************************************************************************************************************************************************************************************************************************************400  *** \n",
      "[1] \"To speed up use option distances=FALSE\"\n",
      "*Bootstrap - sampling with replacement within each group under H0: No of resamples =  400 \n",
      "*********************************************************************************************************************************************************************************************************************************************************************************************************100  ***********************************************************************************************************************************************************************************************************************************************************************************************************200  ************************************************************************************************************************************************************************************************************************************************************************************************************300  ************************************************************************************************************************************************************************************************************************************************************************************************************400  *** \n",
      "[1] \"To speed up use option distances=FALSE\"\n",
      "*Bootstrap - sampling with replacement within each group under H0: No of resamples =  400 \n",
      "*********************************************************************************************************************************************************************************************************************************************************************************************************100  ************************************************************************************************************************************************************************************************************************************************************************************************************200  ************************************************************************************************************************************************************************************************************************************************************************************************************300  ************************************************************************************************************************************************************************************************************************************************************************************************************400  *** \n",
      "[1] \"To speed up use option distances=FALSE\"\n",
      "*Bootstrap - sampling with replacement within each group under H0: No of resamples =  400 \n",
      "*********************************************************************************************************************************************************************************************************************************************************************************************************100  ************************************************************************************************************************************************************************************************************************************************************************************************************200  ************************************************************************************************************************************************************************************************************************************************************************************************************300  ************************************************************************************************************************************************************************************************************************************************************************************************************400  *** \n",
      "*Bootstrap - sampling with replacement within each group under H0: No of resamples =  400 \n",
      "*********************************************************************************************************************************************************************************************************************************************************************************************************100  ************************************************************************************************************************************************************************************************************************************************************************************************************200  ************************************************************************************************************************************************************************************************************************************************************************************************************300  ************************************************************************************************************************************************************************************************************************************************************************************************************400  *** \n",
      "[1] \"[DONE]\"\n"
     ]
    }
   ],
   "source": [
    "res_ctl_oi1 <- testmeanshapes(ctl_mat, oi1_mat, resamples=400, replace=TRUE)\n",
    "res_ctl_oi3 <- testmeanshapes(ctl_mat, oi3_mat, resamples=400, replace=TRUE)\n",
    "res_ctl_oi4 <- testmeanshapes(ctl_mat, oi4_mat, resamples=400, replace=TRUE)\n",
    "res_oi1_oi3 <- testmeanshapes(oi1_mat, oi3_mat, resamples=400, replace=TRUE)\n",
    "res_oi1_oi4 <- testmeanshapes(oi1_mat, oi4_mat, resamples=400, replace=TRUE)\n",
    "res_oi3_oi4 <- testmeanshapes(oi3_mat, oi4_mat, resamples=400, replace=TRUE)\n",
    "print('[DONE]')"
   ]
  },
  {
   "cell_type": "code",
   "execution_count": 67,
   "metadata": {},
   "outputs": [
    {
     "name": "stdout",
     "output_type": "stream",
     "text": [
      "[1] \"Control - Type 1:  0.00249376558603491\"\n",
      "[1] \"Control - Type 3:  0.00249376558603491\"\n",
      "[1] \"Control - Type 4:  0.00249376558603491\"\n",
      "[1] \"Type 1 - Type 3:  0.00997506234413965\"\n",
      "[1] \"Type 1 - Type 4:  0.1571072319202\"\n",
      "[1] \"Type 3 - Type 4:  0.029925187032419\"\n"
     ]
    }
   ],
   "source": [
    "print(paste('Control - Type 1: ', as.character(res_ctl_oi1$G.pvalue))) \n",
    "print(paste('Control - Type 3: ', as.character(res_ctl_oi3$G.pvalue))) \n",
    "print(paste('Control - Type 4: ', as.character(res_ctl_oi4$G.pvalue))) \n",
    "print(paste('Type 1 - Type 3: ', as.character(res_oi1_oi3$G.pvalue))) \n",
    "print(paste('Type 1 - Type 4: ', as.character(res_oi1_oi4$G.pvalue))) \n",
    "print(paste('Type 3 - Type 4: ', as.character(res_oi3_oi4$G.pvalue))) "
   ]
  },
  {
   "cell_type": "markdown",
   "metadata": {},
   "source": [
    "### ANOVA Testing of the MED"
   ]
  },
  {
   "cell_type": "code",
   "execution_count": 133,
   "metadata": {},
   "outputs": [
    {
     "name": "stdout",
     "output_type": "stream",
     "text": [
      "[1] \"Type 1:  0.00753903672547451 +/- 0.00501367908889013\"\n",
      "[1] \"Type 3:  0.0106413755404304 +/- 0.00639639417365096\"\n",
      "[1] \"Type 4:  0.00806925228057834 +/- 0.00550080891926833\"\n"
     ]
    },
    {
     "data": {
      "text/plain": [
       "               Df Sum Sq  Mean Sq F value Pr(>F)    \n",
       "variable        2 0.0140 0.007013   238.7 <2e-16 ***\n",
       "Residuals   11761 0.3455 0.000029                   \n",
       "---\n",
       "Signif. codes:  0 ‘***’ 0.001 ‘**’ 0.01 ‘*’ 0.05 ‘.’ 0.1 ‘ ’ 1"
      ]
     },
     "metadata": {},
     "output_type": "display_data"
    },
    {
     "data": {
      "text/plain": [
       "\n",
       "\tPairwise comparisons using t tests with pooled SD \n",
       "\n",
       "data:  ed_df$value and ed_df$variable \n",
       "\n",
       "       oi1_ed  oi3_ed \n",
       "oi3_ed < 2e-16 -      \n",
       "oi4_ed 6.3e-06 < 2e-16\n",
       "\n",
       "P value adjustment method: bonferroni "
      ]
     },
     "metadata": {},
     "output_type": "display_data"
    }
   ],
   "source": [
    "aov.med.res <- aov(value ~ variable, data = ed_df)\n",
    "print(paste('Type 1: ', as.character(mean(oi1_ed$value)), '+/-', as.character(sd(oi1_ed$value))))\n",
    "print(paste('Type 3: ', as.character(mean(oi3_ed$value)), '+/-', as.character(sd(oi3_ed$value))))\n",
    "print(paste('Type 4: ', as.character(mean(oi4_ed$value)), '+/-', as.character(sd(oi4_ed$value))))\n",
    "summary(aov.med.res)\n",
    "pairwise.t.test(ed_df$value, ed_df$variable, p.adj = \"bonf\")"
   ]
  },
  {
   "cell_type": "markdown",
   "metadata": {},
   "source": [
    "### ANOVA Testing of the MED Z-Score"
   ]
  },
  {
   "cell_type": "code",
   "execution_count": 66,
   "metadata": {},
   "outputs": [
    {
     "name": "stdout",
     "output_type": "stream",
     "text": [
      "[1] \"Type 1:  -0.122420800015635 +/- 0.906872643846323\"\n",
      "[1] \"Type 3:  0.438729236383863 +/- 1.15697769891095\"\n",
      "[1] \"Type 4:  -0.0265155827609166 +/- 0.994984529218164\"\n"
     ]
    },
    {
     "data": {
      "text/plain": [
       "               Df Sum Sq Mean Sq F value Pr(>F)    \n",
       "variable        2    459  229.45   238.7 <2e-16 ***\n",
       "Residuals   11761  11304    0.96                   \n",
       "---\n",
       "Signif. codes:  0 ‘***’ 0.001 ‘**’ 0.01 ‘*’ 0.05 ‘.’ 0.1 ‘ ’ 1"
      ]
     },
     "metadata": {},
     "output_type": "display_data"
    },
    {
     "data": {
      "text/plain": [
       "\n",
       "\tPairwise comparisons using t tests with pooled SD \n",
       "\n",
       "data:  ed_df$zscore and ed_df$variable \n",
       "\n",
       "       oi1_ed  oi3_ed \n",
       "oi3_ed < 2e-16 -      \n",
       "oi4_ed 6.3e-06 < 2e-16\n",
       "\n",
       "P value adjustment method: bonferroni "
      ]
     },
     "metadata": {},
     "output_type": "display_data"
    }
   ],
   "source": [
    "aov.medz.res <- aov(zscore ~ variable, data = ed_df)\n",
    "print(paste('Type 1: ', as.character(mean(ed_df[which(ed_df$variable=='oi1_ed'),]$zscore)), '+/-', as.character(sd(ed_df[which(ed_df$variable=='oi1_ed'),]$zscore))))\n",
    "print(paste('Type 3: ', as.character(mean(ed_df[which(ed_df$variable=='oi3_ed'),]$zscore)), '+/-', as.character(sd(ed_df[which(ed_df$variable=='oi3_ed'),]$zscore))))\n",
    "print(paste('Type 4: ', as.character(mean(ed_df[which(ed_df$variable=='oi4_ed'),]$zscore)), '+/-', as.character(sd(ed_df[which(ed_df$variable=='oi4_ed'),]$zscore))))\n",
    "summary(aov.medz.res)\n",
    "pairwise.t.test(ed_df$zscore, ed_df$variable, p.adj = \"bonf\")"
   ]
  },
  {
   "cell_type": "markdown",
   "metadata": {},
   "source": [
    "### ANOVA Testing of Ratio 1"
   ]
  },
  {
   "cell_type": "code",
   "execution_count": 67,
   "metadata": {},
   "outputs": [
    {
     "name": "stdout",
     "output_type": "stream",
     "text": [
      "[1] \"Control:  0.611762229065928 +/- 0.0257822254413421\"\n",
      "[1] \"Type 1:  0.595468819842491 +/- 0.0264859231020785\"\n",
      "[1] \"Type 3:  0.604958978587533 +/- 0.0355451448263293\"\n",
      "[1] \"Type 4:  0.602433399403848 +/- 0.0305984785308337\"\n"
     ]
    },
    {
     "data": {
      "text/plain": [
       "             Df  Sum Sq  Mean Sq F value  Pr(>F)    \n",
       "variable      3 0.01443 0.004809   6.172 0.00044 ***\n",
       "Residuals   302 0.23532 0.000779                    \n",
       "---\n",
       "Signif. codes:  0 ‘***’ 0.001 ‘**’ 0.01 ‘*’ 0.05 ‘.’ 0.1 ‘ ’ 1"
      ]
     },
     "metadata": {},
     "output_type": "display_data"
    },
    {
     "data": {
      "text/plain": [
       "\n",
       "\tPairwise comparisons using t tests with pooled SD \n",
       "\n",
       "data:  ratio1_df$value and ratio1_df$variable \n",
       "\n",
       "           ctl_ratio1 oi1_ratio1 oi3_ratio1\n",
       "oi1_ratio1 0.00017    -          -         \n",
       "oi3_ratio1 1.00000    0.70912    -         \n",
       "oi4_ratio1 0.21356    0.85976    1.00000   \n",
       "\n",
       "P value adjustment method: bonferroni "
      ]
     },
     "metadata": {},
     "output_type": "display_data"
    }
   ],
   "source": [
    "aov.ratio1.res <- aov(value ~ variable, data = ratio1_df) \n",
    "print(paste('Control: ', as.character(mean(ctl_ratio1$value)), '+/-', as.character(sd(ctl_ratio1$value))))\n",
    "print(paste('Type 1: ', as.character(mean(oi1_ratio1$value)), '+/-', as.character(sd(oi1_ratio1$value))))\n",
    "print(paste('Type 3: ', as.character(mean(oi3_ratio1$value)), '+/-', as.character(sd(oi3_ratio1$value))))\n",
    "print(paste('Type 4: ', as.character(mean(oi4_ratio1$value)), '+/-', as.character(sd(oi4_ratio1$value))))\n",
    "summary(aov.ratio1.res)\n",
    "pairwise.t.test(ratio1_df$value, ratio1_df$variable, p.adj = \"bonf\")"
   ]
  },
  {
   "cell_type": "markdown",
   "metadata": {},
   "source": [
    "### ANOVA Testing of Ratio 1 Z-Score"
   ]
  },
  {
   "cell_type": "code",
   "execution_count": 71,
   "metadata": {},
   "outputs": [
    {
     "name": "stdout",
     "output_type": "stream",
     "text": [
      "[1] \"Control:  0.246229077853313 +/- 0.900993108554223\"\n",
      "[1] \"Type 1:  -0.323165114225665 +/- 0.925584730571949\"\n",
      "[1] \"Type 3:  0.00848071859130702 +/- 1.24217091359889\"\n",
      "[1] \"Type 4:  -0.0797789021612063 +/- 1.06930328226509\"\n"
     ]
    },
    {
     "data": {
      "text/plain": [
       "             Df Sum Sq Mean Sq F value  Pr(>F)    \n",
       "variable      3  17.62   5.873   6.172 0.00044 ***\n",
       "Residuals   302 287.38   0.952                    \n",
       "---\n",
       "Signif. codes:  0 ‘***’ 0.001 ‘**’ 0.01 ‘*’ 0.05 ‘.’ 0.1 ‘ ’ 1"
      ]
     },
     "metadata": {},
     "output_type": "display_data"
    },
    {
     "data": {
      "text/plain": [
       "\n",
       "\tPairwise comparisons using t tests with pooled SD \n",
       "\n",
       "data:  ratio1_df$zscore and ratio1_df$variable \n",
       "\n",
       "           ctl_ratio1 oi1_ratio1 oi3_ratio1\n",
       "oi1_ratio1 0.00017    -          -         \n",
       "oi3_ratio1 1.00000    0.70912    -         \n",
       "oi4_ratio1 0.21356    0.85976    1.00000   \n",
       "\n",
       "P value adjustment method: bonferroni "
      ]
     },
     "metadata": {},
     "output_type": "display_data"
    }
   ],
   "source": [
    "aov.ratio1z.res <- aov(zscore ~ variable, data = ratio1_df)\n",
    "print(paste('Control: ', as.character(mean(ratio1_df[which(ratio1_df$variable=='ctl_ratio1'),]$zscore)), '+/-', as.character(sd(ratio1_df[which(ratio1_df$variable=='ctl_ratio1'),]$zscore))))\n",
    "print(paste('Type 1: ', as.character(mean(ratio1_df[which(ratio1_df$variable=='oi1_ratio1'),]$zscore)), '+/-', as.character(sd(ratio1_df[which(ratio1_df$variable=='oi1_ratio1'),]$zscore))))\n",
    "print(paste('Type 3: ', as.character(mean(ratio1_df[which(ratio1_df$variable=='oi3_ratio1'),]$zscore)), '+/-', as.character(sd(ratio1_df[which(ratio1_df$variable=='oi3_ratio1'),]$zscore))))\n",
    "print(paste('Type 4: ', as.character(mean(ratio1_df[which(ratio1_df$variable=='oi4_ratio1'),]$zscore)), '+/-', as.character(sd(ratio1_df[which(ratio1_df$variable=='oi4_ratio1'),]$zscore))))\n",
    "summary(aov.ratio1z.res)\n",
    "pairwise.t.test(ratio1_df$zscore, ratio1_df$variable, p.adj = \"bonf\")"
   ]
  },
  {
   "cell_type": "markdown",
   "metadata": {},
   "source": [
    "### ANOVA Testing of Ratio 2"
   ]
  },
  {
   "cell_type": "code",
   "execution_count": 135,
   "metadata": {},
   "outputs": [
    {
     "name": "stdout",
     "output_type": "stream",
     "text": [
      "[1] \"Control:  0.798996012424221 +/- 0.0271565466947241\"\n",
      "[1] \"Type 1:  0.783984756426955 +/- 0.0381999989409837\"\n",
      "[1] \"Type 3:  0.773518622222659 +/- 0.0296545154195152\"\n",
      "[1] \"Type 4:  0.791660876479689 +/- 0.0306895681331188\"\n"
     ]
    },
    {
     "data": {
      "text/plain": [
       "             Df  Sum Sq  Mean Sq F value   Pr(>F)    \n",
       "variable      3 0.02142 0.007139   7.167 0.000116 ***\n",
       "Residuals   302 0.30079 0.000996                     \n",
       "---\n",
       "Signif. codes:  0 ‘***’ 0.001 ‘**’ 0.01 ‘*’ 0.05 ‘.’ 0.1 ‘ ’ 1"
      ]
     },
     "metadata": {},
     "output_type": "display_data"
    },
    {
     "data": {
      "text/plain": [
       "\n",
       "\tPairwise comparisons using t tests with pooled SD \n",
       "\n",
       "data:  ratio2_df$value and ratio2_df$variable \n",
       "\n",
       "           ctl_ratio2 oi1_ratio2 oi3_ratio2\n",
       "oi1_ratio2 0.00369    -          -         \n",
       "oi3_ratio2 0.00076    0.76469    -         \n",
       "oi4_ratio2 0.85864    0.92152    0.07965   \n",
       "\n",
       "P value adjustment method: bonferroni "
      ]
     },
     "metadata": {},
     "output_type": "display_data"
    }
   ],
   "source": [
    "aov.ratio2.res <- aov(value ~ variable, data = ratio2_df) \n",
    "print(paste('Control: ', as.character(mean(ctl_ratio2$value)), '+/-', as.character(sd(ctl_ratio2$value))))\n",
    "print(paste('Type 1: ', as.character(mean(oi1_ratio2$value)), '+/-', as.character(sd(oi1_ratio2$value))))\n",
    "print(paste('Type 3: ', as.character(mean(oi3_ratio2$value)), '+/-', as.character(sd(oi3_ratio2$value))))\n",
    "print(paste('Type 4: ', as.character(mean(oi4_ratio2$value)), '+/-', as.character(sd(oi4_ratio2$value))))\n",
    "summary(aov.ratio2.res)\n",
    "pairwise.t.test(ratio2_df$value, ratio2_df$variable, p.adj = \"bonf\")"
   ]
  },
  {
   "cell_type": "markdown",
   "metadata": {},
   "source": [
    "### ANOVA Testing of Ratio 2 Z-Scores"
   ]
  },
  {
   "cell_type": "code",
   "execution_count": 72,
   "metadata": {},
   "outputs": [
    {
     "name": "stdout",
     "output_type": "stream",
     "text": [
      "[1] \"Control:  0.24658407686873 +/- 0.835524192976292\"\n",
      "[1] \"Type 1:  -0.215266529309889 +/- 1.17529756804687\"\n",
      "[1] \"Type 3:  -0.537277587377325 +/- 0.912379079067776\"\n",
      "[1] \"Type 4:  0.0209042947770848 +/- 0.944224497152162\"\n"
     ]
    },
    {
     "data": {
      "text/plain": [
       "             Df Sum Sq Mean Sq F value   Pr(>F)    \n",
       "variable      3  20.27   6.757   7.167 0.000116 ***\n",
       "Residuals   302 284.73   0.943                     \n",
       "---\n",
       "Signif. codes:  0 ‘***’ 0.001 ‘**’ 0.01 ‘*’ 0.05 ‘.’ 0.1 ‘ ’ 1"
      ]
     },
     "metadata": {},
     "output_type": "display_data"
    },
    {
     "data": {
      "text/plain": [
       "\n",
       "\tPairwise comparisons using t tests with pooled SD \n",
       "\n",
       "data:  ratio2_df$zscore and ratio2_df$variable \n",
       "\n",
       "           ctl_ratio2 oi1_ratio2 oi3_ratio2\n",
       "oi1_ratio2 0.00369    -          -         \n",
       "oi3_ratio2 0.00076    0.76469    -         \n",
       "oi4_ratio2 0.85864    0.92152    0.07965   \n",
       "\n",
       "P value adjustment method: bonferroni "
      ]
     },
     "metadata": {},
     "output_type": "display_data"
    }
   ],
   "source": [
    "aov.ratio2z.res <- aov(zscore ~ variable, data = ratio2_df)\n",
    "print(paste('Control: ', as.character(mean(ratio2_df[which(ratio2_df$variable=='ctl_ratio2'),]$zscore)), '+/-', as.character(sd(ratio2_df[which(ratio2_df$variable=='ctl_ratio2'),]$zscore))))\n",
    "print(paste('Type 1: ', as.character(mean(ratio2_df[which(ratio2_df$variable=='oi1_ratio2'),]$zscore)), '+/-', as.character(sd(ratio2_df[which(ratio2_df$variable=='oi1_ratio2'),]$zscore))))\n",
    "print(paste('Type 3: ', as.character(mean(ratio2_df[which(ratio2_df$variable=='oi3_ratio2'),]$zscore)), '+/-', as.character(sd(ratio2_df[which(ratio2_df$variable=='oi3_ratio2'),]$zscore))))\n",
    "print(paste('Type 4: ', as.character(mean(ratio2_df[which(ratio2_df$variable=='oi4_ratio2'),]$zscore)), '+/-', as.character(sd(ratio2_df[which(ratio2_df$variable=='oi4_ratio2'),]$zscore))))\n",
    "summary(aov.ratio2z.res)\n",
    "pairwise.t.test(ratio2_df$zscore, ratio2_df$variable, p.adj = \"bonf\")"
   ]
  },
  {
   "cell_type": "markdown",
   "metadata": {},
   "source": [
    "### ANOVA Testing of Ratio 3"
   ]
  },
  {
   "cell_type": "code",
   "execution_count": 136,
   "metadata": {},
   "outputs": [
    {
     "name": "stdout",
     "output_type": "stream",
     "text": [
      "[1] \"Control:  1.26108263737859 +/- 0.0757543223270305\"\n",
      "[1] \"Type 1:  1.3349359861059 +/- 0.106371901538172\"\n",
      "[1] \"Type 3:  1.40225598995642 +/- 0.124271923610922\"\n",
      "[1] \"Type 4:  1.32623734753888 +/- 0.0978755302379388\"\n"
     ]
    },
    {
     "data": {
      "text/plain": [
       "             Df Sum Sq Mean Sq F value   Pr(>F)    \n",
       "variable      3 0.6242 0.20807   23.31 1.34e-13 ***\n",
       "Residuals   302 2.6953 0.00892                     \n",
       "---\n",
       "Signif. codes:  0 ‘***’ 0.001 ‘**’ 0.01 ‘*’ 0.05 ‘.’ 0.1 ‘ ’ 1"
      ]
     },
     "metadata": {},
     "output_type": "display_data"
    },
    {
     "data": {
      "text/plain": [
       "\n",
       "\tPairwise comparisons using t tests with pooled SD \n",
       "\n",
       "data:  ratio3_df$value and ratio3_df$variable \n",
       "\n",
       "           ctl_ratio3 oi1_ratio3 oi3_ratio3\n",
       "oi1_ratio3 1.8e-07    -          -         \n",
       "oi3_ratio3 3.1e-11    0.00686    -         \n",
       "oi4_ratio3 0.00011    1.00000    0.00337   \n",
       "\n",
       "P value adjustment method: bonferroni "
      ]
     },
     "metadata": {},
     "output_type": "display_data"
    }
   ],
   "source": [
    "aov.ratio3.res <- aov(value ~ variable, data = ratio3_df)\n",
    "print(paste('Control: ', as.character(mean(ctl_ratio3$value)), '+/-', as.character(sd(ctl_ratio3$value))))\n",
    "print(paste('Type 1: ', as.character(mean(oi1_ratio3$value)), '+/-', as.character(sd(oi1_ratio3$value))))\n",
    "print(paste('Type 3: ', as.character(mean(oi3_ratio3$value)), '+/-', as.character(sd(oi3_ratio3$value))))\n",
    "print(paste('Type 4: ', as.character(mean(oi4_ratio3$value)), '+/-', as.character(sd(oi4_ratio3$value))))\n",
    "summary(aov.ratio3.res)\n",
    "pairwise.t.test(ratio3_df$value, ratio3_df$variable, p.adj = \"bonf\")"
   ]
  },
  {
   "cell_type": "markdown",
   "metadata": {},
   "source": [
    "### ANOVA Testing of Ratio 3 Z-Scores"
   ]
  },
  {
   "cell_type": "code",
   "execution_count": 73,
   "metadata": {},
   "outputs": [
    {
     "name": "stdout",
     "output_type": "stream",
     "text": [
      "[1] \"Control:  -0.443739945552773 +/- 0.726134839297658\"\n",
      "[1] \"Type 1:  0.264173317510796 +/- 1.0196163236173\"\n",
      "[1] \"Type 3:  0.909461911955422 +/- 1.19119504351013\"\n",
      "[1] \"Type 4:  0.180793461102052 +/- 0.938175278153593\"\n"
     ]
    },
    {
     "data": {
      "text/plain": [
       "             Df Sum Sq Mean Sq F value   Pr(>F)    \n",
       "variable      3  57.35   19.12   23.31 1.34e-13 ***\n",
       "Residuals   302 247.65    0.82                     \n",
       "---\n",
       "Signif. codes:  0 ‘***’ 0.001 ‘**’ 0.01 ‘*’ 0.05 ‘.’ 0.1 ‘ ’ 1"
      ]
     },
     "metadata": {},
     "output_type": "display_data"
    },
    {
     "data": {
      "text/plain": [
       "\n",
       "\tPairwise comparisons using t tests with pooled SD \n",
       "\n",
       "data:  ratio3_df$zscore and ratio3_df$variable \n",
       "\n",
       "           ctl_ratio3 oi1_ratio3 oi3_ratio3\n",
       "oi1_ratio3 1.8e-07    -          -         \n",
       "oi3_ratio3 3.1e-11    0.00686    -         \n",
       "oi4_ratio3 0.00011    1.00000    0.00337   \n",
       "\n",
       "P value adjustment method: bonferroni "
      ]
     },
     "metadata": {},
     "output_type": "display_data"
    }
   ],
   "source": [
    "aov.ratio3z.res <- aov(zscore ~ variable, data = ratio3_df)\n",
    "print(paste('Control: ', as.character(mean(ratio3_df[which(ratio3_df$variable=='ctl_ratio3'),]$zscore)), '+/-', as.character(sd(ratio3_df[which(ratio3_df$variable=='ctl_ratio3'),]$zscore))))\n",
    "print(paste('Type 1: ', as.character(mean(ratio3_df[which(ratio3_df$variable=='oi1_ratio3'),]$zscore)), '+/-', as.character(sd(ratio3_df[which(ratio3_df$variable=='oi1_ratio3'),]$zscore))))\n",
    "print(paste('Type 3: ', as.character(mean(ratio3_df[which(ratio3_df$variable=='oi3_ratio3'),]$zscore)), '+/-', as.character(sd(ratio3_df[which(ratio3_df$variable=='oi3_ratio3'),]$zscore))))\n",
    "print(paste('Type 4: ', as.character(mean(ratio3_df[which(ratio3_df$variable=='oi4_ratio3'),]$zscore)), '+/-', as.character(sd(ratio3_df[which(ratio3_df$variable=='oi4_ratio3'),]$zscore))))\n",
    "summary(aov.ratio3z.res)\n",
    "pairwise.t.test(ratio3_df$zscore, ratio3_df$variable, p.adj = \"bonf\")"
   ]
  },
  {
   "cell_type": "markdown",
   "metadata": {},
   "source": [
    "### ANOVA Testing of the LFH"
   ]
  },
  {
   "cell_type": "code",
   "execution_count": 138,
   "metadata": {},
   "outputs": [
    {
     "name": "stdout",
     "output_type": "stream",
     "text": [
      "[1] \"Control:  0.568981670340754 +/- 0.0219356406935681\"\n",
      "[1] \"Type 1:  0.570576769894556 +/- 0.0256713125708904\"\n",
      "[1] \"Type 3:  0.562142738613134 +/- 0.0354159597103009\"\n",
      "[1] \"Type 4:  0.567382423404346 +/- 0.0257113348374836\"\n"
     ]
    },
    {
     "data": {
      "text/plain": [
       "             Df  Sum Sq   Mean Sq F value Pr(>F)\n",
       "variable      3 0.00161 0.0005377   0.847  0.469\n",
       "Residuals   302 0.19174 0.0006349               "
      ]
     },
     "metadata": {},
     "output_type": "display_data"
    }
   ],
   "source": [
    "aov.lfh.res <- aov(value ~ variable, data = lfh_df)\n",
    "print(paste('Control: ', as.character(mean(ctl_lfh$value)), '+/-', as.character(sd(ctl_lfh$value))))\n",
    "print(paste('Type 1: ', as.character(mean(oi1_lfh$value)), '+/-', as.character(sd(oi1_lfh$value))))\n",
    "print(paste('Type 3: ', as.character(mean(oi3_lfh$value)), '+/-', as.character(sd(oi3_lfh$value))))\n",
    "print(paste('Type 4: ', as.character(mean(oi4_lfh$value)), '+/-', as.character(sd(oi4_lfh$value))))\n",
    "summary(aov.lfh.res)"
   ]
  },
  {
   "cell_type": "markdown",
   "metadata": {},
   "source": [
    "### ANOVA Testinf og the LFH Z-Scores"
   ]
  },
  {
   "cell_type": "code",
   "execution_count": 75,
   "metadata": {},
   "outputs": [
    {
     "name": "stdout",
     "output_type": "stream",
     "text": [
      "[1] \"Control:  0.0184670454068222 +/- 0.871224711727987\"\n",
      "[1] \"Type 1:  0.0818201139746197 +/- 1.01959556170206\"\n",
      "[1] \"Type 3:  -0.253156947990851 +/- 1.40662676418767\"\n",
      "[1] \"Type 4:  -0.0450507460549237 +/- 1.02118513859942\"\n"
     ]
    },
    {
     "data": {
      "text/plain": [
       "             Df Sum Sq Mean Sq F value Pr(>F)\n",
       "variable      3   2.54  0.8482   0.847  0.469\n",
       "Residuals   302 302.46  1.0015               "
      ]
     },
     "metadata": {},
     "output_type": "display_data"
    }
   ],
   "source": [
    "aov.lfhz.res <- aov(zscore ~ variable, data = lfh_df)\n",
    "print(paste('Control: ', as.character(mean(lfh_df[which(lfh_df$variable=='ctl_lfh'),]$zscore)), '+/-', as.character(sd(lfh_df[which(lfh_df$variable=='ctl_lfh'),]$zscore))))\n",
    "print(paste('Type 1: ', as.character(mean(lfh_df[which(lfh_df$variable=='oi1_lfh'),]$zscore)), '+/-', as.character(sd(lfh_df[which(lfh_df$variable=='oi1_lfh'),]$zscore))))\n",
    "print(paste('Type 3: ', as.character(mean(lfh_df[which(lfh_df$variable=='oi3_lfh'),]$zscore)), '+/-', as.character(sd(lfh_df[which(lfh_df$variable=='oi3_lfh'),]$zscore))))\n",
    "print(paste('Type 4: ', as.character(mean(lfh_df[which(lfh_df$variable=='oi4_lfh'),]$zscore)), '+/-', as.character(sd(lfh_df[which(lfh_df$variable=='oi4_lfh'),]$zscore))))\n",
    "summary(aov.lfhz.res)"
   ]
  },
  {
   "cell_type": "code",
   "execution_count": null,
   "metadata": {},
   "outputs": [],
   "source": []
  }
 ],
 "metadata": {
  "kernelspec": {
   "display_name": "R",
   "language": "R",
   "name": "ir"
  },
  "language_info": {
   "codemirror_mode": "r",
   "file_extension": ".r",
   "mimetype": "text/x-r-source",
   "name": "R",
   "pygments_lexer": "r",
   "version": "3.4.3"
  }
 },
 "nbformat": 4,
 "nbformat_minor": 2
}
